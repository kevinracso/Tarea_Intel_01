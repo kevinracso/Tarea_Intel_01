{
  "nbformat": 4,
  "nbformat_minor": 0,
  "metadata": {
    "accelerator": "GPU",
    "colab": {
      "name": "Tarea1_Notebook.ipynb",
      "version": "0.3.2",
      "provenance": [],
      "collapsed_sections": [],
      "toc_visible": true,
      "include_colab_link": true
    },
    "kernelspec": {
      "display_name": "Python 3",
      "language": "python",
      "name": "python3"
    },
    "language_info": {
      "codemirror_mode": {
        "name": "ipython",
        "version": 3
      },
      "file_extension": ".py",
      "mimetype": "text/x-python",
      "name": "python",
      "nbconvert_exporter": "python",
      "pygments_lexer": "ipython3",
      "version": "3.6.7"
    }
  },
  "cells": [
    {
      "cell_type": "markdown",
      "metadata": {
        "id": "view-in-github",
        "colab_type": "text"
      },
      "source": [
        "<a href=\"https://colab.research.google.com/github/kevinracso/Tarea_Intel_01/blob/master/Tarea1_Notebook.ipynb\" target=\"_parent\"><img src=\"https://colab.research.google.com/assets/colab-badge.svg\" alt=\"Open In Colab\"/></a>"
      ]
    },
    {
      "cell_type": "markdown",
      "metadata": {
        "colab_type": "text",
        "id": "gmbRYKD1odtB"
      },
      "source": [
        "# Tarea 1: Perceptrón Multicapa\n",
        "### EL4106 Inteligencia Computacional\n",
        "\n",
        "Profesor de Cátedra: Pablo Estévez<br>\n",
        "Profesor Auxiliar: Ignacio Reyes<br>\n",
        "Ayudantes: Germán García, Esteban Reyes, Mauricio Romero, Nicolás Tapia, Miguel Videla"
      ]
    },
    {
      "cell_type": "markdown",
      "metadata": {
        "colab_type": "text",
        "id": "gr3dCq8pYd_w"
      },
      "source": [
        "## Imports"
      ]
    },
    {
      "cell_type": "code",
      "metadata": {
        "colab_type": "code",
        "id": "Wiv1sT9tpZO-",
        "colab": {}
      },
      "source": [
        "from __future__ import absolute_import\n",
        "from __future__ import division\n",
        "from __future__ import print_function\n",
        "\n",
        "import time\n",
        "\n",
        "import numpy as np\n",
        "import matplotlib.pyplot as plt\n",
        "%matplotlib inline\n",
        "\n",
        "import tensorflow as tf\n",
        "from tensorflow.examples.tutorials.mnist import input_data\n",
        "\n",
        "import itertools\n",
        "from sklearn.metrics import confusion_matrix as sk_conf_mat"
      ],
      "execution_count": 0,
      "outputs": []
    },
    {
      "cell_type": "markdown",
      "metadata": {
        "colab_type": "text",
        "id": "lAqEQZkkRgTJ"
      },
      "source": [
        "## Preparación de la base de datos MNIST"
      ]
    },
    {
      "cell_type": "code",
      "metadata": {
        "colab_type": "code",
        "id": "WwD-4ePxRuzZ",
        "colab": {}
      },
      "source": [
        "# ----- Digito a identificar.\n",
        "RUT_veri_number = 8"
      ],
      "execution_count": 0,
      "outputs": []
    },
    {
      "cell_type": "code",
      "metadata": {
        "colab_type": "code",
        "id": "RahVklIFRfbE",
        "outputId": "e2923959-a59b-43be-b956-57a0c606e55a",
        "colab": {
          "base_uri": "https://localhost:8080/",
          "height": 102
        }
      },
      "source": [
        "def process_dataset(images, labels, selected_class):\n",
        "    \"\"\"Revuelve datos y selecciona subconjunto segun la clase seleccionada.\n",
        "    \n",
        "    Los datos de imagenes y etiquetas son revueltos, se seleccionan aquellos\n",
        "    que coinciden con la etiqueta de la clase seleccionada, y un subconjunto\n",
        "    del mismo tamaño que el anterior es seleccionado de entre todas las demas\n",
        "    clases para obtener un problema balanceado.\n",
        "    \"\"\"\n",
        "    shuffled_indexes = np.random.permutation(len(labels))  # Primer shuffle\n",
        "    images = images[shuffled_indexes]\n",
        "    labels = labels[shuffled_indexes]\n",
        "    selected_column = labels[:, selected_class]\n",
        "    selected_images_indexes = np.where(selected_column == 1)[0]\n",
        "    selected_size = len(selected_images_indexes)\n",
        "    non_selected_indexes_subset = np.where(selected_column == 0)[0][:selected_size]\n",
        "    indexes = np.concatenate(\n",
        "        (selected_images_indexes, \n",
        "        non_selected_indexes_subset),\n",
        "        axis=0)\n",
        "    # No queremos que el modelo primero vea todos los datos de una clase y\n",
        "    # despues todos los de la otra, asi que volvemos a revolver.\n",
        "    np.random.shuffle(indexes)\n",
        "    images_subset = images[indexes]\n",
        "    labels_subset = selected_column[indexes]\n",
        "    labels_subset = np.array(labels_subset, dtype=np.int32)\n",
        "    return images_subset, labels_subset\n",
        "\n",
        "\n",
        "# ----- Carga de la base de datos MNIST\n",
        "mnist = input_data.read_data_sets(\"/tmp/data/\", one_hot=True)  \n",
        "\n",
        "# ----- Preprocesamiento de datos de entrenamiento, validacion, y test\n",
        "training_images, training_labels = process_dataset(\n",
        "    mnist.train.images,\n",
        "    mnist.train.labels,\n",
        "    RUT_veri_number)\n",
        "validation_images, validation_labels = process_dataset(\n",
        "    mnist.validation.images,\n",
        "    mnist.validation.labels,\n",
        "    RUT_veri_number)\n",
        "testing_images, testing_labels = process_dataset(\n",
        "    mnist.test.images,\n",
        "    mnist.test.labels,\n",
        "    RUT_veri_number)\n",
        "print('Processing ready.')"
      ],
      "execution_count": 0,
      "outputs": [
        {
          "output_type": "stream",
          "text": [
            "Extracting /tmp/data/train-images-idx3-ubyte.gz\n",
            "Extracting /tmp/data/train-labels-idx1-ubyte.gz\n",
            "Extracting /tmp/data/t10k-images-idx3-ubyte.gz\n",
            "Extracting /tmp/data/t10k-labels-idx1-ubyte.gz\n",
            "Processing ready.\n"
          ],
          "name": "stdout"
        }
      ]
    },
    {
      "cell_type": "code",
      "metadata": {
        "colab_type": "code",
        "id": "RLcbP5NJRyH_",
        "outputId": "996ee6f1-ec55-4e11-aa3c-9418ec0d31dc",
        "colab": {
          "base_uri": "https://localhost:8080/",
          "height": 144
        }
      },
      "source": [
        "# ----- Visualizacion de algunas imagenes de los datos de entrenamiento\n",
        "\n",
        "chosen_idx = np.random.choice(training_images.shape[0], size=6, replace=False)\n",
        "\n",
        "fig, ax = plt.subplots(1, 6, figsize=(10,5))\n",
        "for i, idx in enumerate(chosen_idx):\n",
        "    image = training_images[idx, :]\n",
        "    digit = training_labels[idx]\n",
        "    ax[i].imshow(image.reshape((28, 28)))\n",
        "    ax[i].set_title(\"Etiqueta: %d\" % digit)\n",
        "    ax[i].axis('off')"
      ],
      "execution_count": 0,
      "outputs": [
        {
          "output_type": "display_data",
          "data": {
            "image/png": "[encoded data removed]",
            "text/plain": [
              "<Figure size 720x360 with 6 Axes>"
            ]
          },
          "metadata": {
            "tags": []
          }
        }
      ]
    },
    {
      "cell_type": "markdown",
      "metadata": {
        "colab_type": "text",
        "id": "Q4f4FFyhpdDA"
      },
      "source": [
        "## Definición de Clasificador MLP"
      ]
    },
    {
      "cell_type": "markdown",
      "metadata": {
        "colab_type": "text",
        "id": "Nfe-XLlTWnsf"
      },
      "source": [
        "### Función del modelo de red neuronal "
      ]
    },
    {
      "cell_type": "code",
      "metadata": {
        "colab_type": "code",
        "id": "MS9viD6ipcIt",
        "colab": {}
      },
      "source": [
        "def model_fn(inputs, layer_sizes):\n",
        "    \"\"\"Construye el grafo computacional de la red MLP.\n",
        "    \n",
        "    Se procesa 'inputs' a través de un perceptron multicapa, cuya salida se\n",
        "    retorna en forma de logits y probabilidades de cada clase.\n",
        "    Summaries son agregados para su visualizacion en Tensorboard.\n",
        "    \n",
        "    Args:\n",
        "        inputs: Tensor de entrada de dimensiones (batch_size, n_features).\n",
        "        layer_sizes: Lista de enteros que indica el tamaño de cada capa de\n",
        "            neuronas. La salida de la capa i-esima posee dimensiones\n",
        "            (batch_size, layer_sizes[i]). El ultimo numero de la lista indica el\n",
        "            tamaño de la capa de salida, que debe ser igual al numero de clases.\n",
        "    \n",
        "    Returns:\n",
        "        logits: Tensor de salida lineal de dimensiones (batch_size, n_classes).\n",
        "        probabilities: Tensor de salida con activacion softmax.\n",
        "    \"\"\"\n",
        "\n",
        "    layer = inputs\n",
        "    n_layers = len(layer_sizes)   \n",
        "    # Capas neuronales\n",
        "    for i in range(n_layers):\n",
        "        with tf.variable_scope('layer_'+str(i)):          \n",
        "            previous_size = layer.shape[1].value  # Tamaño de entrada a la capa          \n",
        "            # Pesos de la capa oculta i-esima\n",
        "            weights = tf.get_variable(\n",
        "                name='weights_'+str(i),\n",
        "                shape=[previous_size, layer_sizes[i]],\n",
        "                initializer=tf.glorot_uniform_initializer())\n",
        "            # Summary de la distribucion de los pesos\n",
        "            tf.summary.histogram('weights_'+str(i), weights)\n",
        "\n",
        "            # Sesgos de la capa oculta i-esima\n",
        "            biases = tf.get_variable(\n",
        "                name='biases_'+str(i),\n",
        "                shape=[layer_sizes[i]],\n",
        "                initializer=tf.zeros_initializer())\n",
        "            # Summary de la distribucion de los sesgos\n",
        "            tf.summary.histogram('biases_'+str(i), biases)\n",
        "            # Aplicacion de pesos y sesgos\n",
        "            layer = tf.matmul(layer, weights) + biases          \n",
        "            if i < n_layers - 1:\n",
        "                # Aplicacion de funcion de activacion de capa oculta\n",
        "                layer = tf.nn.sigmoid(layer)\n",
        "            else:\n",
        "                # Aplicacion de funcion de activacion de capa de salida\n",
        "                logits = layer\n",
        "                probabilities = tf.nn.softmax(logits)   \n",
        "    return logits, probabilities"
      ],
      "execution_count": 0,
      "outputs": []
    },
    {
      "cell_type": "markdown",
      "metadata": {
        "colab_type": "text",
        "id": "7Bip-9FV1_WJ"
      },
      "source": [
        "### Función de costo"
      ]
    },
    {
      "cell_type": "code",
      "metadata": {
        "colab_type": "code",
        "id": "CjgsGFG31-no",
        "colab": {}
      },
      "source": [
        "def loss_fn(logits, labels, loss_function_name):\n",
        "    \"\"\"Construye el grafo computacional del calculo de la funcion de costo.\n",
        "    \n",
        "    Se aplica el loss 'loss_function_name' entre los labels reales y la salida\n",
        "    de la MLP. Ademas, se calcula el accuracy.\n",
        "    Summaries son agregados para su visualizacion en Tensorboard.\n",
        "    \n",
        "    Args:\n",
        "        logits: Tensor de dimensiones (batch_size, n_classes) con los logits\n",
        "        de la salida de la MLP\n",
        "        labels: Tensor de dimensiones (batch_size,) con las etiquetas reales.\n",
        "        loss_function_name: 'cross_entropy' o 'mse', selecciona el costo.\n",
        "    \n",
        "    Returns:\n",
        "        loss: Tensor escalar que corresponde al costo calculado.\n",
        "        accuracy: Tensor escalar que corresponde al accuracy calculado.\n",
        "        val_summaries: summaries que son de interes al predecir en la validacion\n",
        "    \"\"\"\n",
        "    \n",
        "    # Codificacion 'one hot' para las etiquetas de clase\n",
        "    n_classes = logits.shape[1].value\n",
        "    one_hot_labels = tf.one_hot(labels, n_classes)\n",
        "    val_summaries = []\n",
        "    with tf.variable_scope('loss'):\n",
        "        if loss_function_name == 'cross_entropy':\n",
        "            # Cross Entropy loss\n",
        "            loss = tf.reduce_mean(\n",
        "                tf.nn.softmax_cross_entropy_with_logits_v2(\n",
        "                    logits=logits,\n",
        "                    labels=one_hot_labels),\n",
        "                name='xentropy'\n",
        "            )\n",
        "            # Summary de loss\n",
        "            loss_sum = tf.summary.scalar('xentropy_loss', loss)\n",
        "        elif loss_function_name == 'mse':\n",
        "            # Mean Squared Error loss\n",
        "            probabilities = tf.nn.softmax(logits)\n",
        "            loss = tf.reduce_mean(\n",
        "                tf.square(one_hot_labels - probabilities),\n",
        "                name='mse'\n",
        "            )\n",
        "            # Summary de loss\n",
        "            loss_sum = tf.summary.scalar('mse_loss', loss)\n",
        "        else:\n",
        "            raise ValueError('Wrong value for loss_function_name')\n",
        "    val_summaries.append(loss_sum)\n",
        "    with tf.variable_scope('accuracy'):\n",
        "        predictions = tf.argmax(logits, axis=1, output_type=tf.int32)\n",
        "        correct_predictions = tf.equal(labels, predictions)\n",
        "        accuracy = tf.reduce_mean(\n",
        "            tf.cast(correct_predictions, tf.float32),\n",
        "            name='accuracy')\n",
        "        # Summary de accuracy\n",
        "        acc_sum = tf.summary.scalar('accuracy', accuracy)\n",
        "    val_summaries.append(acc_sum)\n",
        "    return loss, accuracy, val_summaries"
      ],
      "execution_count": 0,
      "outputs": []
    },
    {
      "cell_type": "markdown",
      "metadata": {
        "colab_type": "text",
        "id": "WXb1NDd96-4r"
      },
      "source": [
        "### Función del optimizador"
      ]
    },
    {
      "cell_type": "code",
      "metadata": {
        "colab_type": "code",
        "id": "cnngKAFgv7kZ",
        "colab": {}
      },
      "source": [
        "def optimizer_fn(loss, learning_rate):\n",
        "    \"\"\"Construye el grafo computacional de la actualizacion por gradiente.\n",
        "    \n",
        "    Se aplica el algoritmo de optimizacion 'sgd' para ejecutar una\n",
        "    iteracion de minimizacion por gradiente sobre el loss entregado.\n",
        "    \n",
        "    Args:\n",
        "        loss: Tensor escalar que corresponde al costo calculado.\n",
        "        learning_rate: Escalar que indica la tasa de aprendizaje. Al seleccionar\n",
        "            Adam este parametro es ignorado.\n",
        "        optimizer_name: 'sgd' o 'adam', selecciona el optimizador.\n",
        "    \n",
        "    Returns:\n",
        "        train_step: Operacion que ejecuta una iteracion de gradiente.\n",
        "    \"\"\"\n",
        "    \n",
        "    with tf.variable_scope('optimizer'):\n",
        "        # Gradient Descent\n",
        "        optimizer = tf.train.GradientDescentOptimizer(learning_rate)\n",
        "        # Minimizacion de la funcion de costo con el optimizador elegido\n",
        "        train_step = optimizer.minimize(loss)\n",
        "    return train_step"
      ],
      "execution_count": 0,
      "outputs": []
    },
    {
      "cell_type": "markdown",
      "metadata": {
        "colab_type": "text",
        "id": "Mx8DACFS8TxR"
      },
      "source": [
        "### Clase de Clasificador MLP\n",
        "Esta clase utiliza las funciones anteriores para la construcción del grafo computacional."
      ]
    },
    {
      "cell_type": "code",
      "metadata": {
        "colab_type": "code",
        "id": "fITl9UaSydAf",
        "colab": {}
      },
      "source": [
        "class MLPClassifier(object):\n",
        "    \"\"\"Implementacion de clasificador Perceptron Multicapa.\n",
        "    \"\"\"\n",
        "    \n",
        "    def __init__(\n",
        "        self,\n",
        "        n_features,\n",
        "        layer_sizes,\n",
        "        loss_function_name='cross_entropy',\n",
        "        learning_rate=0.1,\n",
        "        batch_size=32,\n",
        "        max_epochs=100,\n",
        "        early_stopping=None,\n",
        "        logdir='logs'\n",
        "    ):\n",
        "        \"\"\"Construye un clasificador Perceptron Multicapa.\n",
        "        \n",
        "        Args:\n",
        "            n_features: Entero que indica el numero de caracteristicas de las entradas.\n",
        "            layer_sizes: Lista de enteros que indica el tamaño de cada capa de\n",
        "            neuronas. La salida de la capa i-esima posee dimensiones\n",
        "            (batch_size, layer_sizes[i]). El ultimo numero de la lista indica el\n",
        "            tamaño de la capa de salida, que debe ser igual al numero de clases.\n",
        "            loss_function_name: 'cross_entropy' o 'mse', selecciona el costo.\n",
        "                Por defecto es 'cross_entropy'.\n",
        "            learning_rate: Escalar que indica la tasa de aprendizaje. Al\n",
        "                seleccionar Adam este parametro es ignorado. Por defecto es 0.1\n",
        "            batch_size: Entero que indica el tamaño de los mini-batches para\n",
        "                el entrenamiento de la red.\n",
        "            max_epochs: Entero que indica el maximo numero de epocas de\n",
        "                entrenamiento (pasadas completas por los datos de entrada) \n",
        "            early_stopping: Indica cuantas veces las verificaciones en la\n",
        "                validacion deben indicar que el costo esta aumentando para\n",
        "                realizar una detencion temprana. Por defecto es None, lo cual\n",
        "                desactiva la detencion temprana.\n",
        "            logdir: String que indica el directorio en donde guardar los\n",
        "                archivos del entrenamiento. Por defecto es 'logs'.\n",
        "        \"\"\"\n",
        "        \n",
        "        # Limpiar grafo computacional\n",
        "        tf.reset_default_graph()\n",
        "        # Agregar parametros al objeto\n",
        "        self.n_features = n_features\n",
        "        self.layer_sizes = layer_sizes\n",
        "        self.loss_function_name = loss_function_name\n",
        "        self.learning_rate = learning_rate\n",
        "        self.batch_size = batch_size\n",
        "        self.max_epochs = max_epochs\n",
        "        self.early_stopping = early_stopping\n",
        "        self.logdir = logdir\n",
        "        # Tensor que reserva espacio para las imagenes de entrada a la red\n",
        "        self.inputs_ph = tf.placeholder(tf.float32, shape=[None, n_features],\n",
        "                                   name='image_placeholder')\n",
        "        # Tensor que reserva espacio para las etiquetas de la entrada\n",
        "        self.labels_ph = tf.placeholder(tf.int32, shape=None,\n",
        "                                        name='label_placeholder')\n",
        "        # Construccion del grafo computacional\n",
        "        self.logits, self.proba = model_fn(\n",
        "            self.inputs_ph, layer_sizes)\n",
        "        self.loss, self.accuracy, self.val_summ = loss_fn(\n",
        "            self.logits, self.labels_ph, loss_function_name)\n",
        "        self.train_step = optimizer_fn(\n",
        "            self.loss, learning_rate)\n",
        "        # Fusion de todos los summaries\n",
        "        self.summ = tf.summary.merge_all()\n",
        "        self.val_summ = tf.summary.merge(self.val_summ)\n",
        "        # Crear sesion de tensorflow para administrar grafo\n",
        "        self.sess = tf.Session()\n",
        "        \n",
        "    def fit(self, X_train, y_train, X_val, y_val):\n",
        "        \"\"\"Entrenamiento del clasificador con los hiperparametros escogidos.\n",
        "        \n",
        "        Args:\n",
        "            X_train: Entradas del entrenamiento con dimensiones (n_ejemplos, n_features).\n",
        "            y_train: Etiquetas del entrenamiento con dimensiones (n_ejemplos,)\n",
        "            X_val: Entradas de la validacion con dimensiones (n_ejemplos, n_features).\n",
        "            y_val: Etiquetas de la validacion con dimensiones (n_ejemplos,)\n",
        "            \n",
        "        Returns:\n",
        "            train_stats: Diccionario con datos historicos del entrenamiento.\n",
        "        \"\"\"\n",
        "        \n",
        "        # Creacion de 'writers' que guardan datos para Tensorboard\n",
        "        writer_train = tf.summary.FileWriter(self.logdir + '/train')\n",
        "        writer_val = tf.summary.FileWriter(self.logdir + '/val')\n",
        "        writer_train.add_graph(self.sess.graph)\n",
        "        print('\\n\\n[Beginning training of MLP at logdir \"%s\"]\\n' % (self.logdir,))    \n",
        "        # Inicializacion de todas las variables\n",
        "        self.sess.run(tf.global_variables_initializer())     \n",
        "        # Definicion de variables utiles para el entrenamiento\n",
        "        n_batches = int(X_train.shape[0] / self.batch_size)\n",
        "        prev_validation_loss = 100.0\n",
        "        validation_period = 10\n",
        "        early_stop_flag = False\n",
        "        start_time = time.time()\n",
        "        iteration_history = []\n",
        "        train_loss_history = []\n",
        "        train_acc_history = []\n",
        "        val_loss_history = []\n",
        "        val_acc_history = []\n",
        "        \n",
        "        # Ciclo que recorre una epoca completa de los datos cada vez\n",
        "        for epoch in range(self.max_epochs):\n",
        "            if early_stop_flag:\n",
        "                # Si early stopping se activo, detener el entrenamiento\n",
        "                break\n",
        "            # Para cada nueva epoca, hacer un shuffle al set de train\n",
        "            new_indexes = np.random.permutation(X_train.shape[0])\n",
        "            X_train = X_train[new_indexes, :]\n",
        "            y_train = y_train[new_indexes]\n",
        "            \n",
        "            # Ciclo que recorre los mini batches del set de train\n",
        "            for i in range(n_batches):\n",
        "                if early_stop_flag:\n",
        "                    # Si early stopping se activo, detener el entrenamiento\n",
        "                    break  \n",
        "                iteration = epoch * n_batches + i           \n",
        "                # Obtencion del minibatch actual\n",
        "                start = i * self.batch_size\n",
        "                end = (i+1) * self.batch_size\n",
        "                X_batch = X_train[start:end, :]\n",
        "                y_batch = y_train[start:end]          \n",
        "                # Ejecutar una iteracion de gradiente\n",
        "                feed_dict = {self.inputs_ph: X_batch, self.labels_ph: y_batch}\n",
        "                self.sess.run(self.train_step, feed_dict=feed_dict)\n",
        "                # Obtener estadisticas del entrenamiento\n",
        "                if iteration % validation_period == 0:\n",
        "                    iteration_history.append(iteration)\n",
        "                    # Estadisticas en el set de validacion\n",
        "                    feed_dict = {self.inputs_ph: X_val, self.labels_ph: y_val}\n",
        "                    val_loss, val_acc, val_summ = self.sess.run(\n",
        "                        [self.loss, self.accuracy, self.val_summ],\n",
        "                        feed_dict=feed_dict)\n",
        "                    writer_val.add_summary(val_summ, iteration)\n",
        "                    val_loss_history.append(val_loss)\n",
        "                    val_acc_history.append(val_acc)\n",
        "                    # Estadisticas en el set de entrenamiento\n",
        "                    feed_dict = {self.inputs_ph: X_train, self.labels_ph: y_train}\n",
        "                    train_loss, train_acc, train_summ = self.sess.run(\n",
        "                        [self.loss, self.accuracy, self.summ],\n",
        "                        feed_dict=feed_dict)\n",
        "                    writer_train.add_summary(train_summ, iteration)\n",
        "                    train_loss_history.append(train_loss)\n",
        "                    train_acc_history.append(train_acc)\n",
        "                    \n",
        "                    print('Epoch: %d/%d, iter: %d. ' %\n",
        "                          (epoch+1, self.max_epochs, iteration), end='')\n",
        "                    print('Loss (train/val): %.3f / %.3f. Val. acc: %.1f%%' %\n",
        "                          (train_loss, val_loss, val_acc * 100), end='')\n",
        "                    \n",
        "                    # Chequear condicion de early_stopping\n",
        "                    if self.early_stopping is not None:\n",
        "                        if val_loss > prev_validation_loss:\n",
        "                            validation_checks += 1\n",
        "                        else:\n",
        "                            validation_checks = 0\n",
        "                            prev_validation_loss = val_loss\n",
        "                        print(', Val. checks: %d/%d' %\n",
        "                              (validation_checks, self.early_stopping))\n",
        "                        if validation_checks >= self.early_stopping:\n",
        "                            early_stop_flag = True\n",
        "                            print('Early stopping')\n",
        "                    else:\n",
        "                        print('')\n",
        "            elap_time = time.time()-start_time\n",
        "            print(\"Epoch finished. Elapsed time %1.4f [s]\\n\" % (elap_time,))\n",
        "        writer_train.flush()\n",
        "        writer_val.flush()\n",
        "        # Guardar estadisticas en un diccionario\n",
        "        train_stats = {\n",
        "            'iteration_history': np.array(iteration_history),\n",
        "            'train_loss_history': np.array(train_loss_history),\n",
        "            'train_acc_history': np.array(train_acc_history),\n",
        "            'val_loss_history': np.array(val_loss_history),\n",
        "            'val_acc_history': np.array(val_acc_history)\n",
        "        }\n",
        "        return train_stats\n",
        "    \n",
        "    def predict_proba(self, X):\n",
        "        \"\"\"Retorna las probabilidades de clase para los datos de entrada.\n",
        "        \"\"\"\n",
        "        # Obtener las probabilidades de salida de cada clase\n",
        "        predicted_proba = self.sess.run(self.proba, feed_dict={self.inputs_ph: X})\n",
        "        return predicted_proba\n",
        "    \n",
        "    def predict_label(self, X):\n",
        "        \"\"\"Retorna la etiqueta predicha para los datos de entrada.\n",
        "        \"\"\"\n",
        "        # Obtener la probabilidad de cada clase\n",
        "        predicted_proba = self.predict_proba(X)\n",
        "        # Etiquetar segun la etiqueta mas probable\n",
        "        predicted_labels = np.argmax(predicted_proba, axis=1)\n",
        "        return predicted_labels"
      ],
      "execution_count": 0,
      "outputs": []
    },
    {
      "cell_type": "markdown",
      "metadata": {
        "colab_type": "text",
        "id": "5HUxx8YiRbDl"
      },
      "source": [
        "## Entrenamiento de MLP"
      ]
    },
    {
      "cell_type": "code",
      "metadata": {
        "colab_type": "code",
        "id": "aYshAaUvRaZa",
        "colab": {}
      },
      "source": [
        "# ----- Directorio para logs\n",
        "experiment_name = \"exp_xentropy\"\n",
        "\n",
        "# --- NO TOCAR\n",
        "logdir_father = \"./tarea_1_logs/\"\n",
        "logdir = logdir_father + experiment_name"
      ],
      "execution_count": 0,
      "outputs": []
    },
    {
      "cell_type": "code",
      "metadata": {
        "colab_type": "code",
        "id": "GWrYVCRWpAXw",
        "colab": {}
      },
      "source": [
        "# ----- Ejecutar si es que se quiere un directorio limpio en logdir\n",
        "# Si existe el directorio, ejecutar esta celda movera los archivos a otra\n",
        "# carpeta para limpiar el logdir elegido.\n",
        "\n",
        "%%bash -s \"$logdir\"\n",
        "if [ -d $1 ]; then\n",
        "    this_date=\"$(date \"+%H%M%S-%y%m%d\")\"\n",
        "    new_dir=\"$1_old_$this_date\"\n",
        "    echo \"moving files from $1 to $new_dir\"\n",
        "    mv $1 $new_dir\n",
        "fi"
      ],
      "execution_count": 0,
      "outputs": []
    },
    {
      "cell_type": "code",
      "metadata": {
        "colab_type": "code",
        "id": "xmNz6vshn1q2",
        "outputId": "cb7fd9ae-d56d-45c3-afa2-c9ba874d2b85",
        "colab": {
          "base_uri": "https://localhost:8080/",
          "height": 1000
        }
      },
      "source": [
        "# Aqui se modifican parametros\n",
        "\n",
        "run_n_times = 5\n",
        "stats_history = []\n",
        "stats_history_ce = []\n",
        "stats_history_mse = []\n",
        "\n",
        "\n",
        "for run in range(run_n_times):\n",
        "    # ----- Creacion de MLP\n",
        "    mlp = MLPClassifier(\n",
        "        n_features=28*28,\n",
        "        layer_sizes=[25, 2],\n",
        "        loss_function_name='cross_entropy',\n",
        "        learning_rate=10.,\n",
        "        batch_size=32,\n",
        "        max_epochs=100,\n",
        "        early_stopping=15,\n",
        "        logdir=logdir+'run_%d' % run)\n",
        "\n",
        "    # ----- Entrenamiento de MLP\n",
        "    train_stats = mlp.fit(training_images, training_labels, validation_images, validation_labels)\n",
        "    stats_history.append(train_stats)\n",
        "    \n",
        "    #train_stats_01 = train_stats\n",
        "    #train_stats_001 = train_stats\n",
        "    #train_stats_1 = train_stats\n",
        "    train_stats_10 = train_stats\n",
        "    \n",
        "    #train_stats_ce = train_stats\n",
        "    #stats_history_ce.append(train_stats)\n",
        "    \n",
        "    #train_stats_mse = train_stats\n",
        "    #stats_history_mse.append(train_stats)"
      ],
      "execution_count": 36,
      "outputs": [
        {
          "output_type": "stream",
          "text": [
            "\n",
            "\n",
            "[Beginning training of MLP at logdir \"./tarea_1_logs/exp_xentropyrun_0\"]\n",
            "\n",
            "Epoch: 1/100, iter: 0. Loss (train/val): 5.456 / 5.452. Val. acc: 50.0%, Val. checks: 0/15\n",
            "Epoch: 1/100, iter: 10. Loss (train/val): 5.947 / 5.908. Val. acc: 50.0%, Val. checks: 1/15\n",
            "Epoch: 1/100, iter: 20. Loss (train/val): 2.016 / 2.015. Val. acc: 50.0%, Val. checks: 0/15\n",
            "Epoch: 1/100, iter: 30. Loss (train/val): 0.699 / 0.700. Val. acc: 52.1%, Val. checks: 0/15\n",
            "Epoch: 1/100, iter: 40. Loss (train/val): 4.132 / 4.165. Val. acc: 50.0%, Val. checks: 1/15\n",
            "Epoch: 1/100, iter: 50. Loss (train/val): 3.610 / 3.635. Val. acc: 50.0%, Val. checks: 2/15\n",
            "Epoch: 1/100, iter: 60. Loss (train/val): 1.770 / 1.752. Val. acc: 50.0%, Val. checks: 3/15\n",
            "Epoch: 1/100, iter: 70. Loss (train/val): 1.375 / 1.314. Val. acc: 50.0%, Val. checks: 4/15\n",
            "Epoch: 1/100, iter: 80. Loss (train/val): 1.002 / 0.982. Val. acc: 50.0%, Val. checks: 5/15\n",
            "Epoch: 1/100, iter: 90. Loss (train/val): 1.682 / 1.674. Val. acc: 50.0%, Val. checks: 6/15\n",
            "Epoch: 1/100, iter: 100. Loss (train/val): 0.630 / 0.620. Val. acc: 81.5%, Val. checks: 0/15\n",
            "Epoch: 1/100, iter: 110. Loss (train/val): 0.912 / 0.857. Val. acc: 80.1%, Val. checks: 1/15\n",
            "Epoch: 1/100, iter: 120. Loss (train/val): 0.713 / 0.707. Val. acc: 70.6%, Val. checks: 2/15\n",
            "Epoch: 1/100, iter: 130. Loss (train/val): 1.485 / 1.460. Val. acc: 56.6%, Val. checks: 3/15\n",
            "Epoch: 1/100, iter: 140. Loss (train/val): 0.557 / 0.590. Val. acc: 78.8%, Val. checks: 0/15\n",
            "Epoch: 1/100, iter: 150. Loss (train/val): 1.048 / 1.056. Val. acc: 81.8%, Val. checks: 1/15\n",
            "Epoch: 1/100, iter: 160. Loss (train/val): 0.467 / 0.454. Val. acc: 80.6%, Val. checks: 0/15\n",
            "Epoch: 1/100, iter: 170. Loss (train/val): 0.566 / 0.525. Val. acc: 84.8%, Val. checks: 1/15\n",
            "Epoch: 1/100, iter: 180. Loss (train/val): 0.684 / 0.609. Val. acc: 80.4%, Val. checks: 2/15\n",
            "Epoch: 1/100, iter: 190. Loss (train/val): 0.695 / 0.614. Val. acc: 85.6%, Val. checks: 3/15\n",
            "Epoch: 1/100, iter: 200. Loss (train/val): 0.590 / 0.521. Val. acc: 87.1%, Val. checks: 4/15\n",
            "Epoch: 1/100, iter: 210. Loss (train/val): 0.865 / 0.862. Val. acc: 62.9%, Val. checks: 5/15\n",
            "Epoch: 1/100, iter: 220. Loss (train/val): 0.627 / 0.656. Val. acc: 71.0%, Val. checks: 6/15\n",
            "Epoch: 1/100, iter: 230. Loss (train/val): 0.596 / 0.574. Val. acc: 87.9%, Val. checks: 7/15\n",
            "Epoch: 1/100, iter: 240. Loss (train/val): 0.496 / 0.443. Val. acc: 85.8%, Val. checks: 0/15\n",
            "Epoch: 1/100, iter: 250. Loss (train/val): 0.414 / 0.404. Val. acc: 87.3%, Val. checks: 0/15\n",
            "Epoch: 1/100, iter: 260. Loss (train/val): 0.813 / 0.814. Val. acc: 68.6%, Val. checks: 1/15\n",
            "Epoch: 1/100, iter: 270. Loss (train/val): 0.525 / 0.468. Val. acc: 81.8%, Val. checks: 2/15\n",
            "Epoch: 1/100, iter: 280. Loss (train/val): 0.560 / 0.478. Val. acc: 89.5%, Val. checks: 3/15\n",
            "Epoch: 1/100, iter: 290. Loss (train/val): 0.510 / 0.476. Val. acc: 87.0%, Val. checks: 4/15\n",
            "Epoch: 1/100, iter: 300. Loss (train/val): 0.764 / 0.748. Val. acc: 87.7%, Val. checks: 5/15\n",
            "Epoch: 1/100, iter: 310. Loss (train/val): 0.410 / 0.399. Val. acc: 88.0%, Val. checks: 0/15\n",
            "Epoch: 1/100, iter: 320. Loss (train/val): 0.406 / 0.413. Val. acc: 88.6%, Val. checks: 1/15\n",
            "Epoch: 1/100, iter: 330. Loss (train/val): 0.600 / 0.551. Val. acc: 89.1%, Val. checks: 2/15\n",
            "Epoch finished. Elapsed time 0.9833 [s]\n",
            "\n",
            "Epoch: 2/100, iter: 340. Loss (train/val): 0.817 / 0.825. Val. acc: 61.9%, Val. checks: 3/15\n",
            "Epoch: 2/100, iter: 350. Loss (train/val): 1.740 / 1.742. Val. acc: 52.5%, Val. checks: 4/15\n",
            "Epoch: 2/100, iter: 360. Loss (train/val): 0.826 / 0.733. Val. acc: 88.5%, Val. checks: 5/15\n",
            "Epoch: 2/100, iter: 370. Loss (train/val): 0.653 / 0.613. Val. acc: 87.8%, Val. checks: 6/15\n",
            "Epoch: 2/100, iter: 380. Loss (train/val): 0.441 / 0.438. Val. acc: 88.7%, Val. checks: 7/15\n",
            "Epoch: 2/100, iter: 390. Loss (train/val): 0.549 / 0.530. Val. acc: 87.9%, Val. checks: 8/15\n",
            "Epoch: 2/100, iter: 400. Loss (train/val): 2.022 / 1.927. Val. acc: 78.8%, Val. checks: 9/15\n",
            "Epoch: 2/100, iter: 410. Loss (train/val): 0.411 / 0.435. Val. acc: 87.7%, Val. checks: 10/15\n",
            "Epoch: 2/100, iter: 420. Loss (train/val): 3.035 / 2.963. Val. acc: 72.4%, Val. checks: 11/15\n",
            "Epoch: 2/100, iter: 430. Loss (train/val): 0.779 / 0.747. Val. acc: 75.4%, Val. checks: 12/15\n",
            "Epoch: 2/100, iter: 440. Loss (train/val): 0.572 / 0.515. Val. acc: 81.4%, Val. checks: 13/15\n",
            "Epoch: 2/100, iter: 450. Loss (train/val): 0.848 / 0.826. Val. acc: 79.1%, Val. checks: 14/15\n",
            "Epoch: 2/100, iter: 460. Loss (train/val): 0.727 / 0.711. Val. acc: 50.0%, Val. checks: 15/15\n",
            "Early stopping\n",
            "Epoch finished. Elapsed time 1.3243 [s]\n",
            "\n",
            "\n",
            "\n",
            "[Beginning training of MLP at logdir \"./tarea_1_logs/exp_xentropyrun_1\"]\n",
            "\n",
            "Epoch: 1/100, iter: 0. Loss (train/val): 3.498 / 3.542. Val. acc: 50.0%, Val. checks: 0/15\n",
            "Epoch: 1/100, iter: 10. Loss (train/val): 1.004 / 1.004. Val. acc: 50.0%, Val. checks: 0/15\n",
            "Epoch: 1/100, iter: 20. Loss (train/val): 2.470 / 2.469. Val. acc: 50.0%, Val. checks: 1/15\n",
            "Epoch: 1/100, iter: 30. Loss (train/val): 4.556 / 4.555. Val. acc: 50.0%, Val. checks: 2/15\n",
            "Epoch: 1/100, iter: 40. Loss (train/val): 2.518 / 2.518. Val. acc: 50.0%, Val. checks: 3/15\n",
            "Epoch: 1/100, iter: 50. Loss (train/val): 1.082 / 1.082. Val. acc: 50.0%, Val. checks: 4/15\n",
            "Epoch: 1/100, iter: 60. Loss (train/val): 0.987 / 0.987. Val. acc: 50.0%, Val. checks: 0/15\n",
            "Epoch: 1/100, iter: 70. Loss (train/val): 2.165 / 2.164. Val. acc: 50.0%, Val. checks: 1/15\n",
            "Epoch: 1/100, iter: 80. Loss (train/val): 3.618 / 3.617. Val. acc: 50.0%, Val. checks: 2/15\n",
            "Epoch: 1/100, iter: 90. Loss (train/val): 3.651 / 3.651. Val. acc: 50.0%, Val. checks: 3/15\n",
            "Epoch: 1/100, iter: 100. Loss (train/val): 1.261 / 1.261. Val. acc: 50.0%, Val. checks: 4/15\n",
            "Epoch: 1/100, iter: 110. Loss (train/val): 2.441 / 2.441. Val. acc: 50.0%, Val. checks: 5/15\n",
            "Epoch: 1/100, iter: 120. Loss (train/val): 0.700 / 0.700. Val. acc: 50.0%, Val. checks: 0/15\n",
            "Epoch: 1/100, iter: 130. Loss (train/val): 4.229 / 4.229. Val. acc: 50.0%, Val. checks: 1/15\n",
            "Epoch: 1/100, iter: 140. Loss (train/val): 3.213 / 3.213. Val. acc: 50.0%, Val. checks: 2/15\n",
            "Epoch: 1/100, iter: 150. Loss (train/val): 2.220 / 2.220. Val. acc: 50.0%, Val. checks: 3/15\n",
            "Epoch: 1/100, iter: 160. Loss (train/val): 0.719 / 0.719. Val. acc: 50.0%, Val. checks: 4/15\n",
            "Epoch: 1/100, iter: 170. Loss (train/val): 1.724 / 1.724. Val. acc: 50.0%, Val. checks: 5/15\n",
            "Epoch: 1/100, iter: 180. Loss (train/val): 0.891 / 0.891. Val. acc: 50.0%, Val. checks: 6/15\n",
            "Epoch: 1/100, iter: 190. Loss (train/val): 3.075 / 3.074. Val. acc: 50.0%, Val. checks: 7/15\n",
            "Epoch: 1/100, iter: 200. Loss (train/val): 2.355 / 2.355. Val. acc: 50.0%, Val. checks: 8/15\n",
            "Epoch: 1/100, iter: 210. Loss (train/val): 1.327 / 1.327. Val. acc: 50.0%, Val. checks: 9/15\n",
            "Epoch: 1/100, iter: 220. Loss (train/val): 2.763 / 2.763. Val. acc: 50.0%, Val. checks: 10/15\n",
            "Epoch: 1/100, iter: 230. Loss (train/val): 4.012 / 4.012. Val. acc: 50.0%, Val. checks: 11/15\n",
            "Epoch: 1/100, iter: 240. Loss (train/val): 2.041 / 2.041. Val. acc: 50.0%, Val. checks: 12/15\n",
            "Epoch: 1/100, iter: 250. Loss (train/val): 1.289 / 1.289. Val. acc: 50.0%, Val. checks: 13/15\n",
            "Epoch: 1/100, iter: 260. Loss (train/val): 2.174 / 2.174. Val. acc: 50.0%, Val. checks: 14/15\n",
            "Epoch: 1/100, iter: 270. Loss (train/val): 3.328 / 3.328. Val. acc: 50.0%, Val. checks: 15/15\n",
            "Early stopping\n",
            "Epoch finished. Elapsed time 0.8273 [s]\n",
            "\n",
            "\n",
            "\n",
            "[Beginning training of MLP at logdir \"./tarea_1_logs/exp_xentropyrun_2\"]\n",
            "\n",
            "Epoch: 1/100, iter: 0. Loss (train/val): 3.152 / 3.174. Val. acc: 50.0%, Val. checks: 0/15\n",
            "Epoch: 1/100, iter: 10. Loss (train/val): 12.789 / 12.788. Val. acc: 50.0%, Val. checks: 1/15\n",
            "Epoch: 1/100, iter: 20. Loss (train/val): 18.477 / 18.455. Val. acc: 50.0%, Val. checks: 2/15\n",
            "Epoch: 1/100, iter: 30. Loss (train/val): 11.884 / 11.886. Val. acc: 50.0%, Val. checks: 3/15\n",
            "Epoch: 1/100, iter: 40. Loss (train/val): 8.621 / 8.622. Val. acc: 50.0%, Val. checks: 4/15\n",
            "Epoch: 1/100, iter: 50. Loss (train/val): 10.800 / 10.757. Val. acc: 50.0%, Val. checks: 5/15\n",
            "Epoch: 1/100, iter: 60. Loss (train/val): 6.028 / 6.037. Val. acc: 50.0%, Val. checks: 6/15\n",
            "Epoch: 1/100, iter: 70. Loss (train/val): 7.666 / 7.668. Val. acc: 50.0%, Val. checks: 7/15\n",
            "Epoch: 1/100, iter: 80. Loss (train/val): 3.493 / 3.504. Val. acc: 50.0%, Val. checks: 8/15\n",
            "Epoch: 1/100, iter: 90. Loss (train/val): 6.906 / 6.967. Val. acc: 50.0%, Val. checks: 9/15\n",
            "Epoch: 1/100, iter: 100. Loss (train/val): 9.447 / 9.447. Val. acc: 50.0%, Val. checks: 10/15\n",
            "Epoch: 1/100, iter: 110. Loss (train/val): 9.782 / 9.783. Val. acc: 50.0%, Val. checks: 11/15\n",
            "Epoch: 1/100, iter: 120. Loss (train/val): 10.197 / 10.196. Val. acc: 50.0%, Val. checks: 12/15\n",
            "Epoch: 1/100, iter: 130. Loss (train/val): 7.584 / 7.584. Val. acc: 50.0%, Val. checks: 13/15\n",
            "Epoch: 1/100, iter: 140. Loss (train/val): 5.355 / 5.355. Val. acc: 50.0%, Val. checks: 14/15\n",
            "Epoch: 1/100, iter: 150. Loss (train/val): 5.514 / 5.514. Val. acc: 50.0%, Val. checks: 15/15\n",
            "Early stopping\n",
            "Epoch finished. Elapsed time 0.4828 [s]\n",
            "\n",
            "\n",
            "\n",
            "[Beginning training of MLP at logdir \"./tarea_1_logs/exp_xentropyrun_3\"]\n",
            "\n",
            "Epoch: 1/100, iter: 0. Loss (train/val): 6.033 / 6.033. Val. acc: 50.0%, Val. checks: 0/15\n",
            "Epoch: 1/100, iter: 10. Loss (train/val): 1.931 / 1.920. Val. acc: 50.0%, Val. checks: 0/15\n",
            "Epoch: 1/100, iter: 20. Loss (train/val): 8.306 / 8.307. Val. acc: 50.0%, Val. checks: 1/15\n",
            "Epoch: 1/100, iter: 30. Loss (train/val): 4.712 / 4.711. Val. acc: 50.0%, Val. checks: 2/15\n",
            "Epoch: 1/100, iter: 40. Loss (train/val): 3.288 / 3.289. Val. acc: 50.0%, Val. checks: 3/15\n",
            "Epoch: 1/100, iter: 50. Loss (train/val): 6.646 / 6.646. Val. acc: 50.0%, Val. checks: 4/15\n",
            "Epoch: 1/100, iter: 60. Loss (train/val): 5.189 / 5.189. Val. acc: 50.0%, Val. checks: 5/15\n",
            "Epoch: 1/100, iter: 70. Loss (train/val): 6.742 / 6.743. Val. acc: 50.0%, Val. checks: 6/15\n",
            "Epoch: 1/100, iter: 80. Loss (train/val): 6.312 / 6.321. Val. acc: 50.0%, Val. checks: 7/15\n",
            "Epoch: 1/100, iter: 90. Loss (train/val): 7.402 / 7.402. Val. acc: 50.0%, Val. checks: 8/15\n",
            "Epoch: 1/100, iter: 100. Loss (train/val): 1.746 / 1.747. Val. acc: 50.0%, Val. checks: 0/15\n",
            "Epoch: 1/100, iter: 110. Loss (train/val): 1.426 / 1.426. Val. acc: 50.0%, Val. checks: 0/15\n",
            "Epoch: 1/100, iter: 120. Loss (train/val): 1.703 / 1.702. Val. acc: 50.0%, Val. checks: 1/15\n",
            "Epoch: 1/100, iter: 130. Loss (train/val): 3.604 / 3.605. Val. acc: 50.0%, Val. checks: 2/15\n",
            "Epoch: 1/100, iter: 140. Loss (train/val): 9.830 / 9.886. Val. acc: 50.0%, Val. checks: 3/15\n",
            "Epoch: 1/100, iter: 150. Loss (train/val): 5.618 / 5.706. Val. acc: 50.0%, Val. checks: 4/15\n",
            "Epoch: 1/100, iter: 160. Loss (train/val): 3.782 / 3.890. Val. acc: 51.4%, Val. checks: 5/15\n",
            "Epoch: 1/100, iter: 170. Loss (train/val): 5.530 / 5.617. Val. acc: 50.0%, Val. checks: 6/15\n",
            "Epoch: 1/100, iter: 180. Loss (train/val): 9.530 / 9.657. Val. acc: 50.0%, Val. checks: 7/15\n",
            "Epoch: 1/100, iter: 190. Loss (train/val): 3.659 / 3.744. Val. acc: 51.6%, Val. checks: 8/15\n",
            "Epoch: 1/100, iter: 200. Loss (train/val): 0.675 / 0.684. Val. acc: 52.4%, Val. checks: 0/15\n",
            "Epoch: 1/100, iter: 210. Loss (train/val): 3.972 / 4.064. Val. acc: 52.9%, Val. checks: 1/15\n",
            "Epoch: 1/100, iter: 220. Loss (train/val): 10.932 / 11.009. Val. acc: 50.0%, Val. checks: 2/15\n",
            "Epoch: 1/100, iter: 230. Loss (train/val): 0.579 / 0.604. Val. acc: 69.9%, Val. checks: 0/15\n",
            "Epoch: 1/100, iter: 240. Loss (train/val): 9.459 / 9.451. Val. acc: 50.0%, Val. checks: 1/15\n",
            "Epoch: 1/100, iter: 250. Loss (train/val): 2.667 / 2.658. Val. acc: 50.0%, Val. checks: 2/15\n",
            "Epoch: 1/100, iter: 260. Loss (train/val): 2.969 / 2.982. Val. acc: 58.3%, Val. checks: 3/15\n",
            "Epoch: 1/100, iter: 270. Loss (train/val): 2.671 / 2.893. Val. acc: 64.6%, Val. checks: 4/15\n",
            "Epoch: 1/100, iter: 280. Loss (train/val): 4.087 / 4.290. Val. acc: 54.3%, Val. checks: 5/15\n",
            "Epoch: 1/100, iter: 290. Loss (train/val): 3.210 / 3.129. Val. acc: 54.4%, Val. checks: 6/15\n",
            "Epoch: 1/100, iter: 300. Loss (train/val): 6.660 / 6.171. Val. acc: 50.0%, Val. checks: 7/15\n",
            "Epoch: 1/100, iter: 310. Loss (train/val): 1.698 / 1.918. Val. acc: 51.4%, Val. checks: 8/15\n",
            "Epoch: 1/100, iter: 320. Loss (train/val): 1.655 / 1.429. Val. acc: 73.9%, Val. checks: 9/15\n",
            "Epoch: 1/100, iter: 330. Loss (train/val): 1.271 / 1.192. Val. acc: 50.0%, Val. checks: 10/15\n",
            "Epoch finished. Elapsed time 1.0543 [s]\n",
            "\n",
            "Epoch: 2/100, iter: 340. Loss (train/val): 0.835 / 0.846. Val. acc: 50.0%, Val. checks: 11/15\n",
            "Epoch: 2/100, iter: 350. Loss (train/val): 1.380 / 1.317. Val. acc: 75.9%, Val. checks: 12/15\n",
            "Epoch: 2/100, iter: 360. Loss (train/val): 2.019 / 1.885. Val. acc: 50.0%, Val. checks: 13/15\n",
            "Epoch: 2/100, iter: 370. Loss (train/val): 5.132 / 5.057. Val. acc: 50.0%, Val. checks: 14/15\n",
            "Epoch: 2/100, iter: 380. Loss (train/val): 2.436 / 2.417. Val. acc: 50.0%, Val. checks: 15/15\n",
            "Early stopping\n",
            "Epoch finished. Elapsed time 1.1956 [s]\n",
            "\n",
            "\n",
            "\n",
            "[Beginning training of MLP at logdir \"./tarea_1_logs/exp_xentropyrun_4\"]\n",
            "\n",
            "Epoch: 1/100, iter: 0. Loss (train/val): 11.311 / 11.315. Val. acc: 50.0%, Val. checks: 0/15\n",
            "Epoch: 1/100, iter: 10. Loss (train/val): 8.944 / 8.940. Val. acc: 50.0%, Val. checks: 0/15\n",
            "Epoch: 1/100, iter: 20. Loss (train/val): 0.785 / 0.785. Val. acc: 50.0%, Val. checks: 0/15\n",
            "Epoch: 1/100, iter: 30. Loss (train/val): 2.066 / 2.066. Val. acc: 50.0%, Val. checks: 1/15\n",
            "Epoch: 1/100, iter: 40. Loss (train/val): 2.374 / 2.373. Val. acc: 50.0%, Val. checks: 2/15\n",
            "Epoch: 1/100, iter: 50. Loss (train/val): 1.629 / 1.628. Val. acc: 50.0%, Val. checks: 3/15\n",
            "Epoch: 1/100, iter: 60. Loss (train/val): 1.530 / 1.530. Val. acc: 50.0%, Val. checks: 4/15\n",
            "Epoch: 1/100, iter: 70. Loss (train/val): 1.923 / 1.923. Val. acc: 50.0%, Val. checks: 5/15\n",
            "Epoch: 1/100, iter: 80. Loss (train/val): 0.893 / 0.893. Val. acc: 50.0%, Val. checks: 6/15\n",
            "Epoch: 1/100, iter: 90. Loss (train/val): 2.365 / 2.364. Val. acc: 50.0%, Val. checks: 7/15\n",
            "Epoch: 1/100, iter: 100. Loss (train/val): 0.682 / 0.676. Val. acc: 53.9%, Val. checks: 0/15\n",
            "Epoch: 1/100, iter: 110. Loss (train/val): 1.113 / 1.110. Val. acc: 50.2%, Val. checks: 1/15\n",
            "Epoch: 1/100, iter: 120. Loss (train/val): 1.545 / 1.545. Val. acc: 50.0%, Val. checks: 2/15\n",
            "Epoch: 1/100, iter: 130. Loss (train/val): 3.146 / 3.094. Val. acc: 50.0%, Val. checks: 3/15\n",
            "Epoch: 1/100, iter: 140. Loss (train/val): 2.384 / 2.382. Val. acc: 50.0%, Val. checks: 4/15\n",
            "Epoch: 1/100, iter: 150. Loss (train/val): 1.763 / 1.758. Val. acc: 50.0%, Val. checks: 5/15\n",
            "Epoch: 1/100, iter: 160. Loss (train/val): 2.462 / 2.458. Val. acc: 50.0%, Val. checks: 6/15\n",
            "Epoch: 1/100, iter: 170. Loss (train/val): 2.288 / 2.288. Val. acc: 50.0%, Val. checks: 7/15\n",
            "Epoch: 1/100, iter: 180. Loss (train/val): 2.767 / 2.755. Val. acc: 50.0%, Val. checks: 8/15\n",
            "Epoch: 1/100, iter: 190. Loss (train/val): 3.388 / 3.382. Val. acc: 50.0%, Val. checks: 9/15\n",
            "Epoch: 1/100, iter: 200. Loss (train/val): 1.589 / 1.576. Val. acc: 50.0%, Val. checks: 10/15\n",
            "Epoch: 1/100, iter: 210. Loss (train/val): 1.485 / 1.470. Val. acc: 50.0%, Val. checks: 11/15\n",
            "Epoch: 1/100, iter: 220. Loss (train/val): 0.998 / 1.011. Val. acc: 50.0%, Val. checks: 12/15\n",
            "Epoch: 1/100, iter: 230. Loss (train/val): 1.885 / 1.860. Val. acc: 50.0%, Val. checks: 13/15\n",
            "Epoch: 1/100, iter: 240. Loss (train/val): 1.061 / 1.057. Val. acc: 50.0%, Val. checks: 14/15\n",
            "Epoch: 1/100, iter: 250. Loss (train/val): 2.103 / 2.097. Val. acc: 50.0%, Val. checks: 15/15\n",
            "Early stopping\n",
            "Epoch finished. Elapsed time 0.7400 [s]\n",
            "\n"
          ],
          "name": "stdout"
        }
      ]
    },
    {
      "cell_type": "markdown",
      "metadata": {
        "colab_type": "text",
        "id": "uszFkplq3avX"
      },
      "source": [
        "### Tasa de acierto en validación computada sobre varias ejecuciones."
      ]
    },
    {
      "cell_type": "code",
      "metadata": {
        "colab_type": "code",
        "id": "HNS4VAkflQvE",
        "outputId": "a2ee5873-fad5-4b27-82da-40b3446a243d",
        "colab": {
          "base_uri": "https://localhost:8080/",
          "height": 85
        }
      },
      "source": [
        "val_acc_history = np.array([run['val_acc_history'][-1] for run in stats_history])\n",
        "val_acc_mean = val_acc_history.mean()\n",
        "val_acc_std = val_acc_history.std()\n",
        "print('Validation accuracy %.3f +/- %.3f' % (val_acc_mean, val_acc_std))\n",
        "print(val_acc_history)\n",
        "\n",
        "train_acc_history = np.array([run['train_acc_history'][-1] for run in stats_history])\n",
        "train_acc_mean = train_acc_history.mean()\n",
        "train_acc_std = train_acc_history.std()\n",
        "print('Train accuracy %.3f +/- %.3f' % (train_acc_mean, train_acc_std))\n",
        "print(train_acc_history)"
      ],
      "execution_count": 37,
      "outputs": [
        {
          "output_type": "stream",
          "text": [
            "Validation accuracy 0.500 +/- 0.000\n",
            "[0.5 0.5 0.5 0.5 0.5]\n",
            "Train accuracy 0.500 +/- 0.000\n",
            "[0.5 0.5 0.5 0.5 0.5]\n"
          ],
          "name": "stdout"
        }
      ]
    },
    {
      "cell_type": "markdown",
      "metadata": {
        "colab_type": "text",
        "id": "tDrpTQWXa19D"
      },
      "source": [
        "## Visualización de Resultados"
      ]
    },
    {
      "cell_type": "markdown",
      "metadata": {
        "colab_type": "text",
        "id": "8ypv7zhabDJT"
      },
      "source": [
        "### Algunas estadísticas del entrenamiento"
      ]
    },
    {
      "cell_type": "code",
      "metadata": {
        "colab_type": "code",
        "id": "XsDDF3BoboJS",
        "outputId": "266021e0-4be9-4a75-9cf4-b54a1aaf8df9",
        "colab": {
          "base_uri": "https://localhost:8080/",
          "height": 367
        }
      },
      "source": [
        "#train_stats = train_stats_ce\n",
        "#train_stats = train_stats_mse\n",
        "\n",
        "\n",
        "fig, ax = plt.subplots(1, 2, figsize=(13, 5))\n",
        "\n",
        "ax[0].plot(train_stats_ce['iteration_history'], train_stats_ce['val_loss_history'], label='val ce')\n",
        "ax[0].plot(train_stats_ce['iteration_history'], train_stats_ce['train_loss_history'], label='train ce')\n",
        "ax[0].plot(train_stats_mse['iteration_history'], train_stats_mse['val_loss_history'], label='val mse')\n",
        "ax[0].plot(train_stats_mse['iteration_history'], train_stats_mse['train_loss_history'], label='train mse')\n",
        "ax[0].set_xlabel('Iteration')\n",
        "ax[0].set_ylabel('Loss')\n",
        "ax[0].set_title('Loss evolution during training')\n",
        "ax[0].set_ylim(0,1)\n",
        "ax[0].legend()\n",
        "\n",
        "ax[1].plot(train_stats_ce['iteration_history'], train_stats_ce['val_acc_history'], label='val ce')\n",
        "ax[1].plot(train_stats_ce['iteration_history'], train_stats_ce['train_acc_history'], label='train ce')\n",
        "ax[1].plot(train_stats_mse['iteration_history'], train_stats_mse['val_acc_history'], label='val mse')\n",
        "ax[1].plot(train_stats_mse['iteration_history'], train_stats_mse['train_acc_history'], label='train mse')\n",
        "ax[1].set_xlabel('Iteration')\n",
        "ax[1].set_ylabel('Accuracy')\n",
        "ax[1].set_title('Accuracy evolution during training')\n",
        "ax[1].set_ylim(0,1)\n",
        "ax[1].legend()"
      ],
      "execution_count": 0,
      "outputs": [
        {
          "output_type": "execute_result",
          "data": {
            "text/plain": [
              "<matplotlib.legend.Legend at 0x7f6f76122908>"
            ]
          },
          "metadata": {
            "tags": []
          },
          "execution_count": 31
        },
        {
          "output_type": "display_data",
          "data": {
            "image/png": "[encoded data removed]",
            "text/plain": [
              "<Figure size 936x360 with 2 Axes>"
            ]
          },
          "metadata": {
            "tags": []
          }
        }
      ]
    },
    {
      "cell_type": "markdown",
      "metadata": {
        "colab_type": "text",
        "id": "EOTYqc13H71W"
      },
      "source": [
        "### Tasa de aprendizaje"
      ]
    },
    {
      "cell_type": "code",
      "metadata": {
        "id": "Q7dth04HH-N-",
        "colab_type": "code",
        "colab": {
          "base_uri": "https://localhost:8080/",
          "height": 1000
        },
        "outputId": "28496b28-7763-4047-def7-c4d30cc41460"
      },
      "source": [
        "fig, ax = plt.subplots(1, 2, figsize=(13, 5)) # solo val\n",
        "\n",
        "ax[0].plot(train_stats_01['iteration_history'], train_stats_01['val_loss_history'], label='val 0.1')\n",
        "#ax[0].plot(train_stats_01['iteration_history'], train_stats_01['train_loss_history'], label='train 0.1')\n",
        "ax[0].plot(train_stats_001['iteration_history'], train_stats_001['val_loss_history'], label='val 0.01')\n",
        "#ax[0].plot(train_stats_001['iteration_history'], train_stats_001['train_loss_history'], label='train 0.01')\n",
        "ax[0].plot(train_stats_1['iteration_history'], train_stats_1['val_loss_history'], label='val 1')\n",
        "#ax[0].plot(train_stats_1['iteration_history'], train_stats_1['train_loss_history'], label='train 1')\n",
        "ax[0].plot(train_stats_10['iteration_history'], train_stats_10['val_loss_history'], label='val 10')\n",
        "#ax[0].plot(train_stats_10['iteration_history'], train_stats_10['train_loss_history'], label='train 10')\n",
        "ax[0].set_xlabel('Iteration')\n",
        "ax[0].set_ylabel('Loss')\n",
        "ax[0].set_title('Loss evolution during training')\n",
        "ax[0].set_ylim(0,1)\n",
        "ax[0].legend()\n",
        "\n",
        "ax[1].plot(train_stats_01['iteration_history'], train_stats_01['val_acc_history'], label='val 0.1')\n",
        "#ax[1].plot(train_stats_01['iteration_history'], train_stats_01['train_acc_history'], label='train 0.1')\n",
        "ax[1].plot(train_stats_001['iteration_history'], train_stats_001['val_acc_history'], label='val 0.01')\n",
        "#ax[1].plot(train_stats_001['iteration_history'], train_stats_001['train_acc_history'], label='train 0.01')\n",
        "ax[1].plot(train_stats_1['iteration_history'], train_stats_1['val_acc_history'], label='val 1')\n",
        "#ax[1].plot(train_stats_1['iteration_history'], train_stats_1['train_acc_history'], label='train 1')\n",
        "ax[1].plot(train_stats_10['iteration_history'], train_stats_10['val_acc_history'], label='val 10')\n",
        "#ax[1].plot(train_stats_10['iteration_history'], train_stats_10['train_acc_history'], label='train 10')\n",
        "ax[1].set_xlabel('Iteration')\n",
        "ax[1].set_ylabel('Accuracy')\n",
        "ax[1].set_title('Accuracy evolution during training')\n",
        "ax[1].set_ylim(0,1)\n",
        "ax[1].legend()\n",
        "\n",
        "fig, ax = plt.subplots(1, 2, figsize=(13, 5)) # solo train\n",
        "\n",
        "#ax[0].plot(train_stats_01['iteration_history'], train_stats_01['val_loss_history'], label='val 0.1')\n",
        "ax[0].plot(train_stats_01['iteration_history'], train_stats_01['train_loss_history'], label='train 0.1')\n",
        "#ax[0].plot(train_stats_001['iteration_history'], train_stats_001['val_loss_history'], label='val 0.01')\n",
        "ax[0].plot(train_stats_001['iteration_history'], train_stats_001['train_loss_history'], label='train 0.01')\n",
        "#ax[0].plot(train_stats_1['iteration_history'], train_stats_1['val_loss_history'], label='val 1')\n",
        "ax[0].plot(train_stats_1['iteration_history'], train_stats_1['train_loss_history'], label='train 1')\n",
        "#ax[0].plot(train_stats_10['iteration_history'], train_stats_10['val_loss_history'], label='val 10')\n",
        "ax[0].plot(train_stats_10['iteration_history'], train_stats_10['train_loss_history'], label='train 10')\n",
        "ax[0].set_xlabel('Iteration')\n",
        "ax[0].set_ylabel('Loss')\n",
        "ax[0].set_title('Loss evolution during training')\n",
        "ax[0].set_ylim(0,1)\n",
        "ax[0].legend()\n",
        "\n",
        "#ax[1].plot(train_stats_01['iteration_history'], train_stats_01['val_acc_history'], label='val 0.1')\n",
        "ax[1].plot(train_stats_01['iteration_history'], train_stats_01['train_acc_history'], label='train 0.1')\n",
        "#ax[1].plot(train_stats_001['iteration_history'], train_stats_001['val_acc_history'], label='val 0.01')\n",
        "ax[1].plot(train_stats_001['iteration_history'], train_stats_001['train_acc_history'], label='train 0.01')\n",
        "#ax[1].plot(train_stats_1['iteration_history'], train_stats_1['val_acc_history'], label='val 1')\n",
        "ax[1].plot(train_stats_1['iteration_history'], train_stats_1['train_acc_history'], label='train 1')\n",
        "#ax[1].plot(train_stats_10['iteration_history'], train_stats_10['val_acc_history'], label='val 10')\n",
        "ax[1].plot(train_stats_10['iteration_history'], train_stats_10['train_acc_history'], label='train 10')\n",
        "ax[1].set_xlabel('Iteration')\n",
        "ax[1].set_ylabel('Accuracy')\n",
        "ax[1].set_title('Accuracy evolution during training')\n",
        "ax[1].set_ylim(0,1)\n",
        "ax[1].legend()\n",
        "\n",
        "fig, ax = plt.subplots(1, 2, figsize=(13, 5)) # val y train\n",
        "\n",
        "ax[0].plot(train_stats_01['iteration_history'], train_stats_01['val_loss_history'], label='val 0.1')\n",
        "ax[0].plot(train_stats_01['iteration_history'], train_stats_01['train_loss_history'], label='train 0.1')\n",
        "ax[0].plot(train_stats_001['iteration_history'], train_stats_001['val_loss_history'], label='val 0.01')\n",
        "ax[0].plot(train_stats_001['iteration_history'], train_stats_001['train_loss_history'], label='train 0.01')\n",
        "ax[0].plot(train_stats_1['iteration_history'], train_stats_1['val_loss_history'], label='val 1')\n",
        "ax[0].plot(train_stats_1['iteration_history'], train_stats_1['train_loss_history'], label='train 1')\n",
        "ax[0].plot(train_stats_10['iteration_history'], train_stats_10['val_loss_history'], label='val 10')\n",
        "ax[0].plot(train_stats_10['iteration_history'], train_stats_10['train_loss_history'], label='train 10')\n",
        "ax[0].set_xlabel('Iteration')\n",
        "ax[0].set_ylabel('Loss')\n",
        "ax[0].set_title('Loss evolution during training')\n",
        "ax[0].set_ylim(0,1)\n",
        "ax[0].legend()\n",
        "\n",
        "ax[1].plot(train_stats_01['iteration_history'], train_stats_01['val_acc_history'], label='val 0.1')\n",
        "ax[1].plot(train_stats_01['iteration_history'], train_stats_01['train_acc_history'], label='train 0.1')\n",
        "ax[1].plot(train_stats_001['iteration_history'], train_stats_001['val_acc_history'], label='val 0.01')\n",
        "ax[1].plot(train_stats_001['iteration_history'], train_stats_001['train_acc_history'], label='train 0.01')\n",
        "ax[1].plot(train_stats_1['iteration_history'], train_stats_1['val_acc_history'], label='val 1')\n",
        "ax[1].plot(train_stats_1['iteration_history'], train_stats_1['train_acc_history'], label='train 1')\n",
        "ax[1].plot(train_stats_10['iteration_history'], train_stats_10['val_acc_history'], label='val 10')\n",
        "ax[1].plot(train_stats_10['iteration_history'], train_stats_10['train_acc_history'], label='train 10')\n",
        "ax[1].set_xlabel('Iteration')\n",
        "ax[1].set_ylabel('Accuracy')\n",
        "ax[1].set_title('Accuracy evolution during training')\n",
        "ax[1].set_ylim(0,1)\n",
        "ax[1].legend()"
      ],
      "execution_count": 45,
      "outputs": [
        {
          "output_type": "execute_result",
          "data": {
            "text/plain": [
              "<matplotlib.legend.Legend at 0x7f6f5cf6f5f8>"
            ]
          },
          "metadata": {
            "tags": []
          },
          "execution_count": 45
        },
        {
          "output_type": "display_data",
          "data": {
            "image/png": "[encoded data removed]",
            "text/plain": [
              "<Figure size 936x360 with 2 Axes>"
            ]
          },
          "metadata": {
            "tags": []
          }
        },
        {
          "output_type": "display_data",
          "data": {
            "image/png": "[encoded data removed]",
            "text/plain": [
              "<Figure size 936x360 with 2 Axes>"
            ]
          },
          "metadata": {
            "tags": []
          }
        },
        {
          "output_type": "display_data",
          "data": {
            "image/png": "[encoded data removed]",
            "text/plain": [
              "<Figure size 936x360 with 2 Axes>"
            ]
          },
          "metadata": {
            "tags": []
          }
        }
      ]
    },
    {
      "cell_type": "markdown",
      "metadata": {
        "colab_type": "text",
        "id": "PF87rmUxbMtW"
      },
      "source": [
        "### Estadísticas del desempeño final"
      ]
    },
    {
      "cell_type": "code",
      "metadata": {
        "colab_type": "code",
        "id": "XKM3ashMUVZa",
        "outputId": "f924ef10-9ed2-42e6-b025-f476c676cb3e",
        "colab": {
          "base_uri": "https://localhost:8080/",
          "height": 1000
        }
      },
      "source": [
        "def confusion_matrix(labels, predictions):\n",
        "    \"\"\"Calcula la matriz de confusion.\n",
        "    \n",
        "    Args:\n",
        "        labels: Array binario 1-D con las etiquetas reales.\n",
        "        predictions: Array binario 1-D con las predicciones.\n",
        "        \n",
        "    Returns:\n",
        "        TP: Numero de verdaderos positivos.\n",
        "        FP: Numero de falsos positivos.\n",
        "        FN: Numero de falsos negativos.\n",
        "        TN: Numero de verdaderos negativos.\n",
        "    \"\"\"\n",
        "    # Map labels and predictions to {0, 1, 2, 3}\n",
        "    encoded_data = 2 * labels + predictions  \n",
        "    TN = np.sum(encoded_data == 0)  # True negatives\n",
        "    FP = np.sum(encoded_data == 1)  # False positives\n",
        "    FN = np.sum(encoded_data == 2)  # False negatives\n",
        "    TP = np.sum(encoded_data == 3)  # True positives\n",
        "    return TP, FP, FN, TN\n",
        "\n",
        "\n",
        "def performance_metrics(TP, FP, FN, TN):\n",
        "    \"\"\"Calcula metricas de desempeño.\n",
        "    \n",
        "    Args:\n",
        "        TP: Numero de verdaderos positivos.\n",
        "        FP: Numero de falsos positivos.\n",
        "        FN: Numero de falsos negativos.\n",
        "        TN: Numero de verdaderos negativos.\n",
        "    \n",
        "    Returns:\n",
        "        accuracy: Porcentaje de clasificaciones correctas del detector.\n",
        "        precision: Precision del detector.\n",
        "        recall: Recall/Sensibilidad del detector.\n",
        "    \"\"\"\n",
        "    accuracy = 100.0 * (TP + TN) / (TP + TN + FP + FN)\n",
        "    precision = 100.0 * TP / (TP + FP)\n",
        "    recall = 100.0 * TP / (TP + FN)\n",
        "    print('TP: %d, TN: %d, FP: %d, FN: %d' %(TP,TN,FP,FN))\n",
        "    print('%1.4f%% Accuracy (Porcentaje de clasificaciones correctas)' % (accuracy))\n",
        "    print('%1.4f%% Precision' % (precision))\n",
        "    print('%1.4f%% Recall' % (recall))\n",
        "    print('')\n",
        "    return accuracy, precision, recall\n",
        "\n",
        "\n",
        "def roc_curve(labels, probabilities):\n",
        "    \"\"\"Calcula la curva ROC.\n",
        "    \n",
        "    Args:\n",
        "        labels: Array binario 1-D con las etiquetas reales.\n",
        "        probabilities: Array 1-D continuo en el rango [0, 1] con las\n",
        "            probabilidades de la clase 1.\n",
        "        \n",
        "    Returns:\n",
        "        tpr: Array 1-D con los valores de Tasa de Verdaderos Positivos (TPR).\n",
        "        fpr: Array 1-D con los valores de Tasa de Falsos Positivos (FPR).\n",
        "    \"\"\"\n",
        "    tpr = []\n",
        "    fpr = []\n",
        "    for threshold in np.linspace(0, 1, 1000):\n",
        "        probabilities_with_threshold = (probabilities > threshold).astype(np.float)\n",
        "        TP, FP, FN, TN = confusion_matrix(\n",
        "            labels, \n",
        "            probabilities_with_threshold)\n",
        "        tpr.append(TP/(TP+FN))\n",
        "        fpr.append(FP/(FP+TN))\n",
        "    return np.array(tpr), np.array(fpr)\n",
        "  \n",
        "  \n",
        "def detection_performance_given_threshold(true_labels, prediction, threshold):\n",
        "    probabilities_with_threshold = (prediction > threshold).astype(np.float)\n",
        "    TP, FP, FN, TN = confusion_matrix(\n",
        "        true_labels, \n",
        "        probabilities_with_threshold)    \n",
        "    return TP, FP, FN, TN       \n",
        "\n",
        "  \n",
        "def plot_confusion_matrix(cm, classes,\n",
        "                          normalize=False,\n",
        "                          title='Confusion matrix',\n",
        "                          cmap=plt.cm.Blues):\n",
        "    \"\"\"\n",
        "    This function prints and plots the confusion matrix.\n",
        "    Normalization can be applied by setting `normalize=True`.\n",
        "    \"\"\"\n",
        "    if normalize:\n",
        "        cm = cm.astype('float') / cm.sum(axis=1)[:, np.newaxis]\n",
        "        print(\"Normalized confusion matrix\")\n",
        "    else:\n",
        "        print('Confusion matrix, without normalization')\n",
        "\n",
        "    print(cm)\n",
        "\n",
        "    plt.imshow(cm, interpolation='nearest', cmap=cmap)\n",
        "    plt.title(title)\n",
        "    plt.colorbar()\n",
        "    tick_marks = np.arange(len(classes))\n",
        "    plt.xticks(tick_marks, classes, rotation=45)\n",
        "    plt.yticks(tick_marks, classes)\n",
        "\n",
        "    fmt = '.2f' if normalize else 'd'\n",
        "    thresh = cm.max() / 2.\n",
        "    for i, j in itertools.product(range(cm.shape[0]), range(cm.shape[1])):\n",
        "        plt.text(j, i, format(cm[i, j], fmt),\n",
        "                 horizontalalignment=\"center\",\n",
        "                 color=\"white\" if cm[i, j] > thresh else \"black\")\n",
        "\n",
        "    plt.ylabel('True label')\n",
        "    plt.xlabel('Predicted label')\n",
        "    plt.grid('off')\n",
        "    plt.tight_layout()\n",
        "    \n",
        "\n",
        "predicted_train_labels = mlp.predict_label(training_images)\n",
        "predicted_val_labels = mlp.predict_label(validation_images)\n",
        "predicted_test_labels = mlp.predict_label(testing_images)\n",
        "\n",
        "cnf_matrix = sk_conf_mat(testing_labels, predicted_test_labels)\n",
        "\n",
        "# Plot non-normalized confusion matrix\n",
        "plt.figure()\n",
        "plot_confusion_matrix(cnf_matrix, classes=['%d' % RUT_veri_number, 'no %d' % RUT_veri_number],\n",
        "                      title='Confusion matrix')\n",
        "\n",
        "\n",
        "print('Training results:')\n",
        "TP, FP, FN, TN = confusion_matrix(training_labels, predicted_train_labels)\n",
        "accuracy, precision, recall = performance_metrics(TP, FP, FN, TN)\n",
        "\n",
        "print('Validation results:')\n",
        "TP, FP, FN, TN = confusion_matrix(validation_labels, predicted_val_labels)\n",
        "accuracy, precision, recall = performance_metrics(TP, FP, FN, TN)\n",
        "\n",
        "print('Test results:')\n",
        "TP, FP, FN, TN = confusion_matrix(testing_labels, predicted_test_labels)\n",
        "accuracy, precision, recall = performance_metrics(TP, FP, FN, TN)\n",
        "\n",
        "predicted_test_proba = mlp.predict_proba(testing_images)\n",
        "tpr, fpr = roc_curve(testing_labels, predicted_test_proba[:, 1])\n",
        "\n",
        "fig, ax = plt.subplots(1, 2, figsize=(13, 5))\n",
        "\n",
        "ax[0].set_title('ROC Curve')\n",
        "ax[0].plot(fpr, tpr, linewidth=2, alpha=0.5)\n",
        "ax[0].set_xlabel('False Positive Rate')\n",
        "ax[0].set_ylabel('True Positive Rate')\n",
        "\n",
        "ax[1].set_title('DET Curve')\n",
        "ax[1].plot(fpr, 1.0 - tpr, linewidth=2, alpha=0.5)\n",
        "ax[1].set_xlabel('False Positive Rate')\n",
        "ax[1].set_ylabel('False Negative Rate')\n",
        "ax[1].set_yscale('log')\n",
        "ax[1].set_xscale('log')"
      ],
      "execution_count": 0,
      "outputs": [
        {
          "output_type": "stream",
          "text": [
            "Confusion matrix, without normalization\n",
            "[[932  42]\n",
            " [ 26 948]]\n",
            "Training results:\n",
            "TP: 5254, TN: 5193, FP: 196, FN: 135\n",
            "96.9289% Accuracy (Porcentaje de clasificaciones correctas)\n",
            "96.4037% Precision\n",
            "97.4949% Recall\n",
            "\n",
            "Validation results:\n",
            "TP: 445, TN: 445, FP: 17, FN: 17\n",
            "96.3203% Accuracy (Porcentaje de clasificaciones correctas)\n",
            "96.3203% Precision\n",
            "96.3203% Recall\n",
            "\n",
            "Test results:\n",
            "TP: 948, TN: 932, FP: 42, FN: 26\n",
            "96.5092% Accuracy (Porcentaje de clasificaciones correctas)\n",
            "95.7576% Precision\n",
            "97.3306% Recall\n",
            "\n"
          ],
          "name": "stdout"
        },
        {
          "output_type": "stream",
          "text": [
            "/usr/local/lib/python3.6/dist-packages/matplotlib/cbook/__init__.py:424: MatplotlibDeprecationWarning: \n",
            "Passing one of 'on', 'true', 'off', 'false' as a boolean is deprecated; use an actual boolean (True/False) instead.\n",
            "  warn_deprecated(\"2.2\", \"Passing one of 'on', 'true', 'off', 'false' as a \"\n"
          ],
          "name": "stderr"
        },
        {
          "output_type": "display_data",
          "data": {
            "image/png": "[encoded data removed]",
            "text/plain": [
              "<Figure size 432x288 with 2 Axes>"
            ]
          },
          "metadata": {
            "tags": []
          }
        },
        {
          "output_type": "display_data",
          "data": {
            "image/png": "[encoded data removed]",
            "text/plain": [
              "<Figure size 936x360 with 2 Axes>"
            ]
          },
          "metadata": {
            "tags": []
          }
        }
      ]
    },
    {
      "cell_type": "markdown",
      "metadata": {
        "colab_type": "text",
        "id": "lsWfO5koe6wg"
      },
      "source": [
        "### Performance según umbral de clasificación"
      ]
    },
    {
      "cell_type": "code",
      "metadata": {
        "colab_type": "code",
        "id": "neruAyQbecmn",
        "outputId": "1e98e4ca-6445-460f-9913-ed9fa729a450",
        "colab": {
          "base_uri": "https://localhost:8080/",
          "height": 34
        }
      },
      "source": [
        "predicted_validation_proba = mlp.predict_proba(validation_images)\n",
        "threshold = 0.5\n",
        "TP, FP, FN, TN = detection_performance_given_threshold(validation_labels, predicted_validation_proba[:, 1], threshold=threshold)\n",
        "print('TP: %d, TN: %d, FP: %d, FN: %d' %(TP,TN,FP,FN))"
      ],
      "execution_count": 0,
      "outputs": [
        {
          "output_type": "stream",
          "text": [
            "TP: 445, TN: 445, FP: 17, FN: 17\n"
          ],
          "name": "stdout"
        }
      ]
    },
    {
      "cell_type": "markdown",
      "metadata": {
        "colab_type": "text",
        "id": "X2zFsvMobYvZ"
      },
      "source": [
        "### Visualización de clasificaciones en el test"
      ]
    },
    {
      "cell_type": "code",
      "metadata": {
        "colab_type": "code",
        "id": "KyzPqoEgV0ky",
        "outputId": "a5f7491f-dc5d-4dc0-a4b2-2838b7b010f3",
        "colab": {
          "base_uri": "https://localhost:8080/",
          "height": 877
        }
      },
      "source": [
        "def show_classifications(images, labels, probabilities, result_type='TP'):\n",
        "    \"\"\" Muestra ejemplos de imagenes para tipos de errores.\n",
        "    \n",
        "    Args:\n",
        "        images: Array de dimensiones (n_ejemplos, n_pixeles) con imagenes.\n",
        "        labels: Array de dimensiones (n_ejemplos,) con las etiquetas reales.\n",
        "        probabilities: Array de dimensiones (n_ejemplos,) con las probabilidades\n",
        "            de la clase 1.\n",
        "        result_type: 'TP', 'FP', 'FN', o 'TP', tipo de error a mostrar.\n",
        "    \"\"\"\n",
        "    dict_types = {'TN': 0, 'FP': 1, 'FN': 2, 'TP': 3}\n",
        "    predictions = (probabilities > 0.5).astype(np.int32)\n",
        "    encoded_data = 2 * labels + predictions \n",
        "    useful = np.where(encoded_data == dict_types[result_type])[0]\n",
        "    size = min(4, useful.shape[0])\n",
        "    chosen = np.random.choice(useful, size=size, replace=False)\n",
        "    fig, ax = plt.subplots(1, 4, figsize=(10,4))\n",
        "    for i, idx in enumerate(chosen):\n",
        "        image = images[idx, :]\n",
        "        digit = labels[idx]\n",
        "        predicted_label = predictions[idx]\n",
        "        proba = probabilities[idx]\n",
        "        ax[i].imshow(image.reshape((28, 28)))\n",
        "        ax[i].set_title(\"True Class: %d\\nPredicted Class: %d\\nProb. of Class 1: %1.4f\"\n",
        "                        % (digit, predicted_label, proba))\n",
        "        ax[i].axis('off')\n",
        "    for j in range(i+1, 4):\n",
        "        ax[j].axis('off')\n",
        "    plt.show()\n",
        "\n",
        "\n",
        "predicted_test_proba = mlp.predict_proba(testing_images)\n",
        "predicted_test_proba = predicted_test_proba[:, 1]\n",
        "\n",
        "print('True Positives:')\n",
        "show_classifications(testing_images, testing_labels, predicted_test_proba , result_type='TP')\n",
        "\n",
        "print('True Negatives:')\n",
        "show_classifications(testing_images, testing_labels, predicted_test_proba , result_type='TN')\n",
        "\n",
        "print('False Positive:')\n",
        "show_classifications(testing_images, testing_labels, predicted_test_proba , result_type='FP')\n",
        "\n",
        "print('False Negative:')\n",
        "show_classifications(testing_images, testing_labels, predicted_test_proba , result_type='FN')"
      ],
      "execution_count": 0,
      "outputs": [
        {
          "output_type": "stream",
          "text": [
            "True Positives:\n"
          ],
          "name": "stdout"
        },
        {
          "output_type": "display_data",
          "data": {
            "image/png": "[encoded data removed]",
            "text/plain": [
              "<Figure size 720x288 with 4 Axes>"
            ]
          },
          "metadata": {
            "tags": []
          }
        },
        {
          "output_type": "stream",
          "text": [
            "True Negatives:\n"
          ],
          "name": "stdout"
        },
        {
          "output_type": "display_data",
          "data": {
            "image/png": "[encoded data removed]",
            "text/plain": [
              "<Figure size 720x288 with 4 Axes>"
            ]
          },
          "metadata": {
            "tags": []
          }
        },
        {
          "output_type": "stream",
          "text": [
            "False Positive:\n"
          ],
          "name": "stdout"
        },
        {
          "output_type": "display_data",
          "data": {
            "image/png": "[encoded data removed]",
            "text/plain": [
              "<Figure size 720x288 with 4 Axes>"
            ]
          },
          "metadata": {
            "tags": []
          }
        },
        {
          "output_type": "stream",
          "text": [
            "False Negative:\n"
          ],
          "name": "stdout"
        },
        {
          "output_type": "display_data",
          "data": {
            "image/png": "[encoded data removed]",
            "text/plain": [
              "<Figure size 720x288 with 4 Axes>"
            ]
          },
          "metadata": {
            "tags": []
          }
        }
      ]
    },
    {
      "cell_type": "markdown",
      "metadata": {
        "colab_type": "text",
        "id": "q30tuRmImaI0"
      },
      "source": [
        "## TensorBoard"
      ]
    },
    {
      "cell_type": "code",
      "metadata": {
        "colab_type": "code",
        "id": "skWOwVB_h0T-",
        "outputId": "c6db2c3f-22c1-4339-b3a2-16bc200be4f1",
        "colab": {
          "base_uri": "https://localhost:8080/",
          "height": 1000
        }
      },
      "source": [
        "# ----- Descarga de ngrok para crear tunel\n",
        "%%bash\n",
        "file=\"ngrok-stable-linux-amd64.zip\"\n",
        "if [ -f \"$file\" ]\n",
        "then\n",
        "\techo \"$file already downloaded.\"\n",
        "else\n",
        "    wget https://bin.equinox.io/c/4VmDzA7iaHb/ngrok-stable-linux-amd64.zip\n",
        "    unzip ngrok-stable-linux-amd64.zip\n",
        "fi"
      ],
      "execution_count": 0,
      "outputs": [
        {
          "output_type": "stream",
          "text": [
            "Archive:  ngrok-stable-linux-amd64.zip\n",
            "  inflating: ngrok                   \n"
          ],
          "name": "stdout"
        },
        {
          "output_type": "stream",
          "text": [
            "--2019-08-26 02:20:37--  https://bin.equinox.io/c/4VmDzA7iaHb/ngrok-stable-linux-amd64.zip\n",
            "Resolving bin.equinox.io (bin.equinox.io)... 52.73.84.118, 54.165.51.142, 52.201.75.180, ...\n",
            "Connecting to bin.equinox.io (bin.equinox.io)|52.73.84.118|:443... connected.\n",
            "HTTP request sent, awaiting response... 200 OK\n",
            "Length: 13607069 (13M) [application/octet-stream]\n",
            "Saving to: ‘ngrok-stable-linux-amd64.zip’\n",
            "\n",
            "     0K .......... .......... .......... .......... ..........  0%  936K 14s\n",
            "    50K .......... .......... .......... .......... ..........  0% 1.81M 11s\n",
            "   100K .......... .......... .......... .......... ..........  1% 60.4M 7s\n",
            "   150K .......... .......... .......... .......... ..........  1% 90.4M 5s\n",
            "   200K .......... .......... .......... .......... ..........  1% 1.88M 6s\n",
            "   250K .......... .......... .......... .......... ..........  2% 66.6M 5s\n",
            "   300K .......... .......... .......... .......... ..........  2% 81.4M 4s\n",
            "   350K .......... .......... .......... .......... ..........  3% 1.93M 4s\n",
            "   400K .......... .......... .......... .......... ..........  3% 61.4M 4s\n",
            "   450K .......... .......... .......... .......... ..........  3% 93.9M 3s\n",
            "   500K .......... .......... .......... .......... ..........  4%  103M 3s\n",
            "   550K .......... .......... .......... .......... ..........  4% 95.0M 3s\n",
            "   600K .......... .......... .......... .......... ..........  4% 98.3M 3s\n",
            "   650K .......... .......... .......... .......... ..........  5%  111M 2s\n",
            "   700K .......... .......... .......... .......... ..........  5% 92.8M 2s\n",
            "   750K .......... .......... .......... .......... ..........  6% 2.11M 3s\n",
            "   800K .......... .......... .......... .......... ..........  6% 78.2M 2s\n",
            "   850K .......... .......... .......... .......... ..........  6%  104M 2s\n",
            "   900K .......... .......... .......... .......... ..........  7% 95.2M 2s\n",
            "   950K .......... .......... .......... .......... ..........  7%  102M 2s\n",
            "  1000K .......... .......... .......... .......... ..........  7% 97.5M 2s\n",
            "  1050K .......... .......... .......... .......... ..........  8%  101M 2s\n",
            "  1100K .......... .......... .......... .......... ..........  8% 2.03M 2s\n",
            "  1150K .......... .......... .......... .......... ..........  9% 63.4M 2s\n",
            "  1200K .......... .......... .......... .......... ..........  9% 96.2M 2s\n",
            "  1250K .......... .......... .......... .......... ..........  9%  102M 2s\n",
            "  1300K .......... .......... .......... .......... .......... 10%  101M 2s\n",
            "  1350K .......... .......... .......... .......... .......... 10%  100M 2s\n",
            "  1400K .......... .......... .......... .......... .......... 10%  103M 2s\n",
            "  1450K .......... .......... .......... .......... .......... 11%  108M 2s\n",
            "  1500K .......... .......... .......... .......... .......... 11% 93.8M 1s\n",
            "  1550K .......... .......... .......... .......... .......... 12%  103M 1s\n",
            "  1600K .......... .......... .......... .......... .......... 12%  139M 1s\n",
            "  1650K .......... .......... .......... .......... .......... 12%  484M 1s\n",
            "  1700K .......... .......... .......... .......... .......... 13%  439M 1s\n",
            "  1750K .......... .......... .......... .......... .......... 13%  443M 1s\n",
            "  1800K .......... .......... .......... .......... .......... 13%  358M 1s\n",
            "  1850K .......... .......... .......... .......... .......... 14% 2.31M 1s\n",
            "  1900K .......... .......... .......... .......... .......... 14% 62.5M 1s\n",
            "  1950K .......... .......... .......... .......... .......... 15% 74.3M 1s\n",
            "  2000K .......... .......... .......... .......... .......... 15% 63.8M 1s\n",
            "  2050K .......... .......... .......... .......... .......... 15%  132M 1s\n",
            "  2100K .......... .......... .......... .......... .......... 16%  447M 1s\n",
            "  2150K .......... .......... .......... .......... .......... 16%  463M 1s\n",
            "  2200K .......... .......... .......... .......... .......... 16%  425M 1s\n",
            "  2250K .......... .......... .......... .......... .......... 17%  414M 1s\n",
            "  2300K .......... .......... .......... .......... .......... 17%  435M 1s\n",
            "  2350K .......... .......... .......... .......... .......... 18%  452M 1s\n",
            "  2400K .......... .......... .......... .......... .......... 18%  470M 1s\n",
            "  2450K .......... .......... .......... .......... .......... 18%  369M 1s\n",
            "  2500K .......... .......... .......... .......... .......... 19%  468M 1s\n",
            "  2550K .......... .......... .......... .......... .......... 19%  471M 1s\n",
            "  2600K .......... .......... .......... .......... .......... 19%  440M 1s\n",
            "  2650K .......... .......... .......... .......... .......... 20%  439M 1s\n",
            "  2700K .......... .......... .......... .......... .......... 20%  479M 1s\n",
            "  2750K .......... .......... .......... .......... .......... 21%  343M 1s\n",
            "  2800K .......... .......... .......... .......... .......... 21%  498M 1s\n",
            "  2850K .......... .......... .......... .......... .......... 21%  372M 1s\n",
            "  2900K .......... .......... .......... .......... .......... 22%  479M 1s\n",
            "  2950K .......... .......... .......... .......... .......... 22%  456M 1s\n",
            "  3000K .......... .......... .......... .......... .......... 22%  462M 1s\n",
            "  3050K .......... .......... .......... .......... .......... 23%  434M 1s\n",
            "  3100K .......... .......... .......... .......... .......... 23%  465M 1s\n",
            "  3150K .......... .......... .......... .......... .......... 24% 2.19M 1s\n",
            "  3200K .......... .......... .......... .......... .......... 24% 65.6M 1s\n",
            "  3250K .......... .......... .......... .......... .......... 24% 71.2M 1s\n",
            "  3300K .......... .......... .......... .......... .......... 25% 62.0M 1s\n",
            "  3350K .......... .......... .......... .......... .......... 25% 72.6M 1s\n",
            "  3400K .......... .......... .......... .......... .......... 25% 88.6M 1s\n",
            "  3450K .......... .......... .......... .......... .......... 26% 97.4M 1s\n",
            "  3500K .......... .......... .......... .......... .......... 26%  108M 1s\n",
            "  3550K .......... .......... .......... .......... .......... 27%  101M 1s\n",
            "  3600K .......... .......... .......... .......... .......... 27%  114M 1s\n",
            "  3650K .......... .......... .......... .......... .......... 27% 79.9M 1s\n",
            "  3700K .......... .......... .......... .......... .......... 28% 92.5M 1s\n",
            "  3750K .......... .......... .......... .......... .......... 28% 92.2M 1s\n",
            "  3800K .......... .......... .......... .......... .......... 28%  104M 1s\n",
            "  3850K .......... .......... .......... .......... .......... 29% 85.7M 1s\n",
            "  3900K .......... .......... .......... .......... .......... 29% 84.9M 1s\n",
            "  3950K .......... .......... .......... .......... .......... 30% 96.2M 1s\n",
            "  4000K .......... .......... .......... .......... .......... 30%  137M 1s\n",
            "  4050K .......... .......... .......... .......... .......... 30%  427M 1s\n",
            "  4100K .......... .......... .......... .......... .......... 31%  478M 1s\n",
            "  4150K .......... .......... .......... .......... .......... 31%  434M 1s\n",
            "  4200K .......... .......... .......... .......... .......... 31%  338M 1s\n",
            "  4250K .......... .......... .......... .......... .......... 32%  364M 1s\n",
            "  4300K .......... .......... .......... .......... .......... 32%  393M 1s\n",
            "  4350K .......... .......... .......... .......... .......... 33%  360M 1s\n",
            "  4400K .......... .......... .......... .......... .......... 33%  422M 1s\n",
            "  4450K .......... .......... .......... .......... .......... 33%  382M 0s\n",
            "  4500K .......... .......... .......... .......... .......... 34%  410M 0s\n",
            "  4550K .......... .......... .......... .......... .......... 34%  393M 0s\n",
            "  4600K .......... .......... .......... .......... .......... 34%  355M 0s\n",
            "  4650K .......... .......... .......... .......... .......... 35%  442M 0s\n",
            "  4700K .......... .......... .......... .......... .......... 35%  496M 0s\n",
            "  4750K .......... .......... .......... .......... .......... 36%  472M 0s\n",
            "  4800K .......... .......... .......... .......... .......... 36%  382M 0s\n",
            "  4850K .......... .......... .......... .......... .......... 36%  483M 0s\n",
            "  4900K .......... .......... .......... .......... .......... 37%  331M 0s\n",
            "  4950K .......... .......... .......... .......... .......... 37%  445M 0s\n",
            "  5000K .......... .......... .......... .......... .......... 38%  422M 0s\n",
            "  5050K .......... .......... .......... .......... .......... 38%  358M 0s\n",
            "  5100K .......... .......... .......... .......... .......... 38%  357M 0s\n",
            "  5150K .......... .......... .......... .......... .......... 39%  366M 0s\n",
            "  5200K .......... .......... .......... .......... .......... 39%  401M 0s\n",
            "  5250K .......... .......... .......... .......... .......... 39%  342M 0s\n",
            "  5300K .......... .......... .......... .......... .......... 40%  375M 0s\n",
            "  5350K .......... .......... .......... .......... .......... 40%  399M 0s\n",
            "  5400K .......... .......... .......... .......... .......... 41%  371M 0s\n",
            "  5450K .......... .......... .......... .......... .......... 41%  453M 0s\n",
            "  5500K .......... .......... .......... .......... .......... 41% 3.75M 0s\n",
            "  5550K .......... .......... .......... .......... .......... 42%  165M 0s\n",
            "  5600K .......... .......... .......... .......... .......... 42%  144M 0s\n",
            "  5650K .......... .......... .......... .......... .......... 42%  225M 0s\n",
            "  5700K .......... .......... .......... .......... .......... 43%  183M 0s\n",
            "  5750K .......... .......... .......... .......... .......... 43%  230M 0s\n",
            "  5800K .......... .......... .......... .......... .......... 44%  244M 0s\n",
            "  5850K .......... .......... .......... .......... .......... 44%  212M 0s\n",
            "  5900K .......... .......... .......... .......... .......... 44%  165M 0s\n",
            "  5950K .......... .......... .......... .......... .......... 45%  256M 0s\n",
            "  6000K .......... .......... .......... .......... .......... 45%  226M 0s\n",
            "  6050K .......... .......... .......... .......... .......... 45%  260M 0s\n",
            "  6100K .......... .......... .......... .......... .......... 46%  190M 0s\n",
            "  6150K .......... .......... .......... .......... .......... 46%  236M 0s\n",
            "  6200K .......... .......... .......... .......... .......... 47%  198M 0s\n",
            "  6250K .......... .......... .......... .......... .......... 47%  288M 0s\n",
            "  6300K .......... .......... .......... .......... .......... 47%  291M 0s\n",
            "  6350K .......... .......... .......... .......... .......... 48% 96.3M 0s\n",
            "  6400K .......... .......... .......... .......... .......... 48% 64.1M 0s\n",
            "  6450K .......... .......... .......... .......... .......... 48% 88.9M 0s\n",
            "  6500K .......... .......... .......... .......... .......... 49% 88.8M 0s\n",
            "  6550K .......... .......... .......... .......... .......... 49%  109M 0s\n",
            "  6600K .......... .......... .......... .......... .......... 50%  102M 0s\n",
            "  6650K .......... .......... .......... .......... .......... 50%  102M 0s\n",
            "  6700K .......... .......... .......... .......... .......... 50% 94.4M 0s\n",
            "  6750K .......... .......... .......... .......... .......... 51%  113M 0s\n",
            "  6800K .......... .......... .......... .......... .......... 51% 94.8M 0s\n",
            "  6850K .......... .......... .......... .......... .......... 51%  120M 0s\n",
            "  6900K .......... .......... .......... .......... .......... 52% 93.8M 0s\n",
            "  6950K .......... .......... .......... .......... .......... 52% 92.5M 0s\n",
            "  7000K .......... .......... .......... .......... .......... 53% 68.7M 0s\n",
            "  7050K .......... .......... .......... .......... .......... 53% 66.4M 0s\n",
            "  7100K .......... .......... .......... .......... .......... 53% 72.3M 0s\n",
            "  7150K .......... .......... .......... .......... .......... 54%  257M 0s\n",
            "  7200K .......... .......... .......... .......... .......... 54%  351M 0s\n",
            "  7250K .......... .......... .......... .......... .......... 54%  296M 0s\n",
            "  7300K .......... .......... .......... .......... .......... 55%  333M 0s\n",
            "  7350K .......... .......... .......... .......... .......... 55%  337M 0s\n",
            "  7400K .......... .......... .......... .......... .......... 56% 3.57M 0s\n",
            "  7450K .......... .......... .......... .......... .......... 56% 84.1M 0s\n",
            "  7500K .......... .......... .......... .......... .......... 56% 77.9M 0s\n",
            "  7550K .......... .......... .......... .......... .......... 57% 80.0M 0s\n",
            "  7600K .......... .......... .......... .......... .......... 57% 77.6M 0s\n",
            "  7650K .......... .......... .......... .......... .......... 57% 83.5M 0s\n",
            "  7700K .......... .......... .......... .......... .......... 58%  101M 0s\n",
            "  7750K .......... .......... .......... .......... .......... 58%  126M 0s\n",
            "  7800K .......... .......... .......... .......... .......... 59%  524M 0s\n",
            "  7850K .......... .......... .......... .......... .......... 59%  483M 0s\n",
            "  7900K .......... .......... .......... .......... .......... 59%  464M 0s\n",
            "  7950K .......... .......... .......... .......... .......... 60%  559M 0s\n",
            "  8000K .......... .......... .......... .......... .......... 60%  424M 0s\n",
            "  8050K .......... .......... .......... .......... .......... 60%  505M 0s\n",
            "  8100K .......... .......... .......... .......... .......... 61%  523M 0s\n",
            "  8150K .......... .......... .......... .......... .......... 61%  460M 0s\n",
            "  8200K .......... .......... .......... .......... .......... 62%  555M 0s\n",
            "  8250K .......... .......... .......... .......... .......... 62%  355M 0s\n",
            "  8300K .......... .......... .......... .......... .......... 62%  462M 0s\n",
            "  8350K .......... .......... .......... .......... .......... 63%  517M 0s\n",
            "  8400K .......... .......... .......... .......... .......... 63%  474M 0s\n",
            "  8450K .......... .......... .......... .......... .......... 63%  528M 0s\n",
            "  8500K .......... .......... .......... .......... .......... 64%  477M 0s\n",
            "  8550K .......... .......... .......... .......... .......... 64%  562M 0s\n",
            "  8600K .......... .......... .......... .......... .......... 65%  507M 0s\n",
            "  8650K .......... .......... .......... .......... .......... 65%  481M 0s\n",
            "  8700K .......... .......... .......... .......... .......... 65%  447M 0s\n",
            "  8750K .......... .......... .......... .......... .......... 66%  313M 0s\n",
            "  8800K .......... .......... .......... .......... .......... 66%  507M 0s\n",
            "  8850K .......... .......... .......... .......... .......... 66%  476M 0s\n",
            "  8900K .......... .......... .......... .......... .......... 67%  444M 0s\n",
            "  8950K .......... .......... .......... .......... .......... 67%  531M 0s\n",
            "  9000K .......... .......... .......... .......... .......... 68%  453M 0s\n",
            "  9050K .......... .......... .......... .......... .......... 68%  490M 0s\n",
            "  9100K .......... .......... .......... .......... .......... 68%  504M 0s\n",
            "  9150K .......... .......... .......... .......... .......... 69%  411M 0s\n",
            "  9200K .......... .......... .......... .......... .......... 69%  374M 0s\n",
            "  9250K .......... .......... .......... .......... .......... 69%  458M 0s\n",
            "  9300K .......... .......... .......... .......... .......... 70%  427M 0s\n",
            "  9350K .......... .......... .......... .......... .......... 70%  471M 0s\n",
            "  9400K .......... .......... .......... .......... .......... 71%  481M 0s\n",
            "  9450K .......... .......... .......... .......... .......... 71%  474M 0s\n",
            "  9500K .......... .......... .......... .......... .......... 71%  518M 0s\n",
            "  9550K .......... .......... .......... .......... .......... 72%  444M 0s\n",
            "  9600K .......... .......... .......... .......... .......... 72%  475M 0s\n",
            "  9650K .......... .......... .......... .......... .......... 72%  424M 0s\n",
            "  9700K .......... .......... .......... .......... .......... 73% 2.62M 0s\n",
            "  9750K .......... .......... .......... .......... .......... 73% 86.7M 0s\n",
            "  9800K .......... .......... .......... .......... .......... 74% 78.2M 0s\n",
            "  9850K .......... .......... .......... .......... .......... 74% 80.5M 0s\n",
            "  9900K .......... .......... .......... .......... .......... 74% 89.2M 0s\n",
            "  9950K .......... .......... .......... .......... .......... 75% 85.2M 0s\n",
            " 10000K .......... .......... .......... .......... .......... 75% 60.3M 0s\n",
            " 10050K .......... .......... .......... .......... .......... 76%  112M 0s\n",
            " 10100K .......... .......... .......... .......... .......... 76% 93.3M 0s\n",
            " 10150K .......... .......... .......... .......... .......... 76%  104M 0s\n",
            " 10200K .......... .......... .......... .......... .......... 77%  107M 0s\n",
            " 10250K .......... .......... .......... .......... .......... 77% 92.7M 0s\n",
            " 10300K .......... .......... .......... .......... .......... 77% 79.8M 0s\n",
            " 10350K .......... .......... .......... .......... .......... 78% 92.1M 0s\n",
            " 10400K .......... .......... .......... .......... .......... 78%  107M 0s\n",
            " 10450K .......... .......... .......... .......... .......... 79%  110M 0s\n",
            " 10500K .......... .......... .......... .......... .......... 79%  103M 0s\n",
            " 10550K .......... .......... .......... .......... .......... 79% 95.3M 0s\n",
            " 10600K .......... .......... .......... .......... .......... 80%  107M 0s\n",
            " 10650K .......... .......... .......... .......... .......... 80%  107M 0s\n",
            " 10700K .......... .......... .......... .......... .......... 80%  104M 0s\n",
            " 10750K .......... .......... .......... .......... .......... 81%  106M 0s\n",
            " 10800K .......... .......... .......... .......... .......... 81%  102M 0s\n",
            " 10850K .......... .......... .......... .......... .......... 82%  109M 0s\n",
            " 10900K .......... .......... .......... .......... .......... 82%  102M 0s\n",
            " 10950K .......... .......... .......... .......... .......... 82%  106M 0s\n",
            " 11000K .......... .......... .......... .......... .......... 83% 74.8M 0s\n",
            " 11050K .......... .......... .......... .......... .......... 83% 82.2M 0s\n",
            " 11100K .......... .......... .......... .......... .......... 83%  109M 0s\n",
            " 11150K .......... .......... .......... .......... .......... 84%  112M 0s\n",
            " 11200K .......... .......... .......... .......... .......... 84%  113M 0s\n",
            " 11250K .......... .......... .......... .......... .......... 85%  437M 0s\n",
            " 11300K .......... .......... .......... .......... .......... 85%  522M 0s\n",
            " 11350K .......... .......... .......... .......... .......... 85%  415M 0s\n",
            " 11400K .......... .......... .......... .......... .......... 86%  537M 0s\n",
            " 11450K .......... .......... .......... .......... .......... 86%  496M 0s\n",
            " 11500K .......... .......... .......... .......... .......... 86%  392M 0s\n",
            " 11550K .......... .......... .......... .......... .......... 87%  433M 0s\n",
            " 11600K .......... .......... .......... .......... .......... 87% 4.54M 0s\n",
            " 11650K .......... .......... .......... .......... .......... 88% 72.4M 0s\n",
            " 11700K .......... .......... .......... .......... .......... 88% 84.6M 0s\n",
            " 11750K .......... .......... .......... .......... .......... 88% 81.1M 0s\n",
            " 11800K .......... .......... .......... .......... .......... 89% 96.9M 0s\n",
            " 11850K .......... .......... .......... .......... .......... 89%  101M 0s\n",
            " 11900K .......... .......... .......... .......... .......... 89%  110M 0s\n",
            " 11950K .......... .......... .......... .......... .......... 90%  168M 0s\n",
            " 12000K .......... .......... .......... .......... .......... 90%  377M 0s\n",
            " 12050K .......... .......... .......... .......... .......... 91%  463M 0s\n",
            " 12100K .......... .......... .......... .......... .......... 91%  489M 0s\n",
            " 12150K .......... .......... .......... .......... .......... 91%  490M 0s\n",
            " 12200K .......... .......... .......... .......... .......... 92%  494M 0s\n",
            " 12250K .......... .......... .......... .......... .......... 92%  426M 0s\n",
            " 12300K .......... .......... .......... .......... .......... 92%  495M 0s\n",
            " 12350K .......... .......... .......... .......... .......... 93%  366M 0s\n",
            " 12400K .......... .......... .......... .......... .......... 93%  432M 0s\n",
            " 12450K .......... .......... .......... .......... .......... 94%  477M 0s\n",
            " 12500K .......... .......... .......... .......... .......... 94%  460M 0s\n",
            " 12550K .......... .......... .......... .......... .......... 94%  512M 0s\n",
            " 12600K .......... .......... .......... .......... .......... 95%  379M 0s\n",
            " 12650K .......... .......... .......... .......... .......... 95%  492M 0s\n",
            " 12700K .......... .......... .......... .......... .......... 95%  374M 0s\n",
            " 12750K .......... .......... .......... .......... .......... 96%  467M 0s\n",
            " 12800K .......... .......... .......... .......... .......... 96%  248M 0s\n",
            " 12850K .......... .......... .......... .......... .......... 97%  384M 0s\n",
            " 12900K .......... .......... .......... .......... .......... 97%  421M 0s\n",
            " 12950K .......... .......... .......... .......... .......... 97%  419M 0s\n",
            " 13000K .......... .......... .......... .......... .......... 98%  377M 0s\n",
            " 13050K .......... .......... .......... .......... .......... 98%  394M 0s\n",
            " 13100K .......... .......... .......... .......... .......... 98%  404M 0s\n",
            " 13150K .......... .......... .......... .......... .......... 99%  317M 0s\n",
            " 13200K .......... .......... .......... .......... .......... 99%  319M 0s\n",
            " 13250K .......... .......... .......... ........             100%  431M=0.4s\n",
            "\n",
            "2019-08-26 02:20:37 (36.5 MB/s) - ‘ngrok-stable-linux-amd64.zip’ saved [13607069/13607069]\n",
            "\n"
          ],
          "name": "stderr"
        }
      ]
    },
    {
      "cell_type": "code",
      "metadata": {
        "colab_type": "code",
        "id": "x5DIdn6KhPpf",
        "outputId": "dcfd54bf-35d1-4f4a-d223-b4971da2815c",
        "colab": {
          "base_uri": "https://localhost:8080/",
          "height": 68
        }
      },
      "source": [
        "# ----- Ejecutar despues de nueva corrida para actualizar Tensorboard\n",
        "\n",
        "LOG_DIR = logdir_father  # este es el logdir de nuestros summaries\n",
        "print(\"Showing summaries at %s\" % (LOG_DIR))\n",
        "\n",
        "get_ipython().system_raw(\n",
        "    'tensorboard --logdir {} --host 0.0.0.0 --port 6006 &'\n",
        "    .format(LOG_DIR)\n",
        ")\n",
        "get_ipython().system_raw('./ngrok http 6006 &')\n",
        "print('Click URL to open TensorBoard:')\n",
        "! curl -s http://localhost:4040/api/tunnels | python3 -c \\\n",
        "    \"import sys, json; print(json.load(sys.stdin)['tunnels'][0]['public_url'])\""
      ],
      "execution_count": 0,
      "outputs": [
        {
          "output_type": "stream",
          "text": [
            "Showing summaries at ./tarea_1_logs/\n",
            "Click URL to open TensorBoard:\n",
            "https://f0131b01.ngrok.io\n"
          ],
          "name": "stdout"
        }
      ]
    },
    {
      "cell_type": "markdown",
      "metadata": {
        "colab_type": "text",
        "id": "7b6uAwj7q2TA"
      },
      "source": [
        "Si quieren borrar su log_dir, utilicen lo siguiente:\n",
        "\n",
        "Ejecutar comandos en bash\n",
        "* %%bash\n",
        "\n",
        "para mirar lo que hay en el directorio actual:\n",
        "* ls \n",
        "\n",
        "para borrar la carpeta \"tarea_1_logs\"\n",
        "* rm -r tarea_1_logs\n",
        "\n",
        "buscar procesos asociados a tensorboard\n",
        "* ps aux | grep tensorboard\n",
        "\n",
        "terminar un proceso\n",
        "* kill -9 process_id (process_id es el pid del proceso)\n",
        "\n",
        "\n"
      ]
    },
    {
      "cell_type": "code",
      "metadata": {
        "colab_type": "code",
        "id": "WDbgq2lP4xZy",
        "outputId": "ab764282-f1c8-4df9-8f13-7a5f7b29a775",
        "colab": {
          "base_uri": "https://localhost:8080/",
          "height": 85
        }
      },
      "source": [
        "%%bash\n",
        "ls"
      ],
      "execution_count": 0,
      "outputs": [
        {
          "output_type": "stream",
          "text": [
            "ngrok\n",
            "ngrok-stable-linux-amd64.zip\n",
            "sample_data\n",
            "tarea_1_logs\n"
          ],
          "name": "stdout"
        }
      ]
    },
    {
      "cell_type": "code",
      "metadata": {
        "colab_type": "code",
        "id": "veKtB6KRkLIu",
        "colab": {}
      },
      "source": [
        "#!rm -r tarea_1_logs"
      ],
      "execution_count": 0,
      "outputs": []
    },
    {
      "cell_type": "code",
      "metadata": {
        "colab_type": "code",
        "id": "JviRuQufPeZf",
        "colab": {}
      },
      "source": [
        ""
      ],
      "execution_count": 0,
      "outputs": []
    }
  ]
}